{
 "cells": [
  {
   "cell_type": "code",
   "execution_count": 1,
   "metadata": {
    "collapsed": true
   },
   "outputs": [],
   "source": [
    "from __future__ import print_function\n",
    "import os\n",
    "import sys\n",
    "sys.path.append('../')\n",
    "%matplotlib inline"
   ]
  },
  {
   "cell_type": "code",
   "execution_count": 2,
   "metadata": {
    "collapsed": true
   },
   "outputs": [],
   "source": [
    "import local_env\n",
    "import utils.service as us\n",
    "import utils.viewer as uv\n",
    "reload(us)\n",
    "reload(uv)\n",
    "from utils.service import ClusterService\n",
    "from utils.viewer import ClusterViewer"
   ]
  },
  {
   "cell_type": "markdown",
   "metadata": {},
   "source": [
    "---\n",
    "#### ENV VARS"
   ]
  },
  {
   "cell_type": "code",
   "execution_count": 3,
   "metadata": {},
   "outputs": [
    {
     "data": {
      "text/plain": [
       "True"
      ]
     },
     "execution_count": 3,
     "metadata": {},
     "output_type": "execute_result"
    }
   ],
   "source": [
    "None==os.environ.get('csv_bucket')"
   ]
  },
  {
   "cell_type": "code",
   "execution_count": 4,
   "metadata": {},
   "outputs": [
    {
     "name": "stdout",
     "output_type": "stream",
     "text": [
      "\n",
      "EXPORTING dev ENV:\n",
      "\twidth: 5\n",
      "\titerations: 25\n",
      "\tcsv_bucket: gfw-clusters-test\n",
      "\turl: http://wri-tiles.s3.amazonaws.com/glad_prod/tiles\n",
      "\tmin_count: 25\n",
      "\tbucket: wri-tiles\n",
      "\tzoom: 12\n",
      "\n",
      "\n"
     ]
    }
   ],
   "source": [
    "local_env.export()"
   ]
  },
  {
   "cell_type": "code",
   "execution_count": 5,
   "metadata": {},
   "outputs": [
    {
     "data": {
      "text/plain": [
       "'gfw-clusters-test'"
      ]
     },
     "execution_count": 5,
     "metadata": {},
     "output_type": "execute_result"
    }
   ],
   "source": [
    "os.environ.get('csv_bucket')"
   ]
  },
  {
   "cell_type": "markdown",
   "metadata": {},
   "source": [
    "---\n",
    "### ClusterService"
   ]
  },
  {
   "cell_type": "code",
   "execution_count": 8,
   "metadata": {
    "collapsed": true
   },
   "outputs": [],
   "source": [
    "bounds_brazil_dev=[[-57.3321533203125,-3.8094460989409646],[-56.1895751953125,-3.162455530237848]]         "
   ]
  },
  {
   "cell_type": "code",
   "execution_count": 9,
   "metadata": {},
   "outputs": [
    {
     "name": "stdout",
     "output_type": "stream",
     "text": [
      "CPU times: user 3.29 s, sys: 601 ms, total: 3.89 s\n",
      "Wall time: 1min 44s\n",
      "NB ERRORS: 0\n",
      "NB CLUSTERS: 727\n"
     ]
    }
   ],
   "source": [
    "c_w5=ClusterService(bounds=bounds_brazil_dev)\n",
    "%time c_w5.run()\n",
    "print('NB ERRORS:',c_w5.errors().shape[0])\n",
    "print('NB CLUSTERS:',c_w5.dataframe().shape[0])"
   ]
  },
  {
   "cell_type": "code",
   "execution_count": 10,
   "metadata": {},
   "outputs": [
    {
     "name": "stdout",
     "output_type": "stream",
     "text": [
      "CPU times: user 3.38 s, sys: 682 ms, total: 4.06 s\n",
      "Wall time: 2min 2s\n",
      "NB ERRORS: 0\n",
      "NB CLUSTERS: 271\n"
     ]
    }
   ],
   "source": [
    "c_w15=ClusterService(bounds=bounds_brazil_dev,width=15)\n",
    "%time c_w15.run()\n",
    "print('NB ERRORS:',c_w15.errors().shape[0])\n",
    "print('NB CLUSTERS:',c_w15.dataframe().shape[0])"
   ]
  },
  {
   "cell_type": "code",
   "execution_count": 11,
   "metadata": {},
   "outputs": [
    {
     "data": {
      "text/html": [
       "<div>\n",
       "<style scoped>\n",
       "    .dataframe tbody tr th:only-of-type {\n",
       "        vertical-align: middle;\n",
       "    }\n",
       "\n",
       "    .dataframe tbody tr th {\n",
       "        vertical-align: top;\n",
       "    }\n",
       "\n",
       "    .dataframe thead th {\n",
       "        text-align: right;\n",
       "    }\n",
       "</style>\n",
       "<table border=\"1\" class=\"dataframe\">\n",
       "  <thead>\n",
       "    <tr style=\"text-align: right;\">\n",
       "      <th></th>\n",
       "      <th>count</th>\n",
       "      <th>area</th>\n",
       "      <th>min_date</th>\n",
       "      <th>max_date</th>\n",
       "      <th>longitude</th>\n",
       "      <th>latitude</th>\n",
       "      <th>x</th>\n",
       "      <th>y</th>\n",
       "      <th>timestamp</th>\n",
       "    </tr>\n",
       "  </thead>\n",
       "  <tbody>\n",
       "    <tr>\n",
       "      <th>0</th>\n",
       "      <td>95</td>\n",
       "      <td>573</td>\n",
       "      <td>20150626</td>\n",
       "      <td>20171122</td>\n",
       "      <td>-3.517205</td>\n",
       "      <td>-56.850758</td>\n",
       "      <td>1401</td>\n",
       "      <td>2088</td>\n",
       "      <td>20180208::07:48:15</td>\n",
       "    </tr>\n",
       "    <tr>\n",
       "      <th>1</th>\n",
       "      <td>51</td>\n",
       "      <td>87</td>\n",
       "      <td>20160129</td>\n",
       "      <td>20171029</td>\n",
       "      <td>-3.324190</td>\n",
       "      <td>-56.866958</td>\n",
       "      <td>1400</td>\n",
       "      <td>2085</td>\n",
       "      <td>20180208::07:48:15</td>\n",
       "    </tr>\n",
       "    <tr>\n",
       "      <th>2</th>\n",
       "      <td>47</td>\n",
       "      <td>471</td>\n",
       "      <td>20150829</td>\n",
       "      <td>20171105</td>\n",
       "      <td>-3.290813</td>\n",
       "      <td>-57.078929</td>\n",
       "      <td>1398</td>\n",
       "      <td>2085</td>\n",
       "      <td>20180208::07:48:15</td>\n",
       "    </tr>\n",
       "    <tr>\n",
       "      <th>3</th>\n",
       "      <td>143</td>\n",
       "      <td>753</td>\n",
       "      <td>20150618</td>\n",
       "      <td>20171028</td>\n",
       "      <td>-3.317309</td>\n",
       "      <td>-57.074104</td>\n",
       "      <td>1398</td>\n",
       "      <td>2085</td>\n",
       "      <td>20180208::07:48:15</td>\n",
       "    </tr>\n",
       "    <tr>\n",
       "      <th>4</th>\n",
       "      <td>25</td>\n",
       "      <td>91</td>\n",
       "      <td>20150721</td>\n",
       "      <td>20171215</td>\n",
       "      <td>-3.778279</td>\n",
       "      <td>-56.899701</td>\n",
       "      <td>1400</td>\n",
       "      <td>2091</td>\n",
       "      <td>20180208::07:48:15</td>\n",
       "    </tr>\n",
       "  </tbody>\n",
       "</table>\n",
       "</div>"
      ],
      "text/plain": [
       "   count  area  min_date  max_date  longitude   latitude     x     y  \\\n",
       "0     95   573  20150626  20171122  -3.517205 -56.850758  1401  2088   \n",
       "1     51    87  20160129  20171029  -3.324190 -56.866958  1400  2085   \n",
       "2     47   471  20150829  20171105  -3.290813 -57.078929  1398  2085   \n",
       "3    143   753  20150618  20171028  -3.317309 -57.074104  1398  2085   \n",
       "4     25    91  20150721  20171215  -3.778279 -56.899701  1400  2091   \n",
       "\n",
       "            timestamp  \n",
       "0  20180208::07:48:15  \n",
       "1  20180208::07:48:15  \n",
       "2  20180208::07:48:15  \n",
       "3  20180208::07:48:15  \n",
       "4  20180208::07:48:15  "
      ]
     },
     "execution_count": 11,
     "metadata": {},
     "output_type": "execute_result"
    }
   ],
   "source": [
    "c_w5.dataframe().head()"
   ]
  },
  {
   "cell_type": "code",
   "execution_count": 75,
   "metadata": {},
   "outputs": [
    {
     "data": {
      "text/html": [
       "<div>\n",
       "<style scoped>\n",
       "    .dataframe tbody tr th:only-of-type {\n",
       "        vertical-align: middle;\n",
       "    }\n",
       "\n",
       "    .dataframe tbody tr th {\n",
       "        vertical-align: top;\n",
       "    }\n",
       "\n",
       "    .dataframe thead th {\n",
       "        text-align: right;\n",
       "    }\n",
       "</style>\n",
       "<table border=\"1\" class=\"dataframe\">\n",
       "  <thead>\n",
       "    <tr style=\"text-align: right;\">\n",
       "      <th></th>\n",
       "      <th>count</th>\n",
       "      <th>area</th>\n",
       "      <th>min_date</th>\n",
       "      <th>max_date</th>\n",
       "      <th>longitude</th>\n",
       "      <th>latitude</th>\n",
       "      <th>x</th>\n",
       "      <th>y</th>\n",
       "      <th>timestamp</th>\n",
       "    </tr>\n",
       "  </thead>\n",
       "  <tbody>\n",
       "    <tr>\n",
       "      <th>258</th>\n",
       "      <td>122</td>\n",
       "      <td>342</td>\n",
       "      <td>20150610</td>\n",
       "      <td>20171223</td>\n",
       "      <td>-3.774496</td>\n",
       "      <td>-57.226103</td>\n",
       "      <td>1396</td>\n",
       "      <td>2090</td>\n",
       "      <td>20180208::07:48:14</td>\n",
       "    </tr>\n",
       "  </tbody>\n",
       "</table>\n",
       "</div>"
      ],
      "text/plain": [
       "     count  area  min_date  max_date  longitude   latitude     x     y  \\\n",
       "258    122   342  20150610  20171223  -3.774496 -57.226103  1396  2090   \n",
       "\n",
       "              timestamp  \n",
       "258  20180208::07:48:14  "
      ]
     },
     "execution_count": 75,
     "metadata": {},
     "output_type": "execute_result"
    }
   ],
   "source": [
    "# get random w5 row\n",
    "row_w5=c_w5.dataframe().sample()\n",
    "row_id_w5=row_w5.index.values[0]\n",
    "row_w5"
   ]
  },
  {
   "cell_type": "code",
   "execution_count": 76,
   "metadata": {},
   "outputs": [
    {
     "data": {
      "text/html": [
       "<div>\n",
       "<style scoped>\n",
       "    .dataframe tbody tr th:only-of-type {\n",
       "        vertical-align: middle;\n",
       "    }\n",
       "\n",
       "    .dataframe tbody tr th {\n",
       "        vertical-align: top;\n",
       "    }\n",
       "\n",
       "    .dataframe thead th {\n",
       "        text-align: right;\n",
       "    }\n",
       "</style>\n",
       "<table border=\"1\" class=\"dataframe\">\n",
       "  <thead>\n",
       "    <tr style=\"text-align: right;\">\n",
       "      <th></th>\n",
       "      <th>count</th>\n",
       "      <th>area</th>\n",
       "      <th>min_date</th>\n",
       "      <th>max_date</th>\n",
       "      <th>longitude</th>\n",
       "      <th>latitude</th>\n",
       "      <th>x</th>\n",
       "      <th>y</th>\n",
       "      <th>timestamp</th>\n",
       "    </tr>\n",
       "  </thead>\n",
       "  <tbody>\n",
       "    <tr>\n",
       "      <th>187</th>\n",
       "      <td>77</td>\n",
       "      <td>2155</td>\n",
       "      <td>20150509</td>\n",
       "      <td>20171223</td>\n",
       "      <td>-3.731161</td>\n",
       "      <td>-57.223001</td>\n",
       "      <td>1396</td>\n",
       "      <td>2090</td>\n",
       "      <td>20180208::07:49:58</td>\n",
       "    </tr>\n",
       "  </tbody>\n",
       "</table>\n",
       "</div>"
      ],
      "text/plain": [
       "     count  area  min_date  max_date  longitude   latitude     x     y  \\\n",
       "187     77  2155  20150509  20171223  -3.731161 -57.223001  1396  2090   \n",
       "\n",
       "              timestamp  \n",
       "187  20180208::07:49:58  "
      ]
     },
     "execution_count": 76,
     "metadata": {},
     "output_type": "execute_result"
    }
   ],
   "source": [
    "# get random w15 row on the same tile as w5 row\n",
    "row_w15=c_w15.dataframe()[(c_w15.dataframe().x==int(row_w5.x)) & (c_w15.dataframe().y==int(row_w5.y)) ].sample()\n",
    "row_id_w15=row_w15.index.values[0]\n",
    "row_w15"
   ]
  },
  {
   "cell_type": "code",
   "execution_count": 77,
   "metadata": {},
   "outputs": [
    {
     "name": "stdout",
     "output_type": "stream",
     "text": [
      "NB CLUSTERS FOR WIDTH = 5: 31\n"
     ]
    },
    {
     "data": {
      "text/html": [
       "<div>\n",
       "<style scoped>\n",
       "    .dataframe tbody tr th:only-of-type {\n",
       "        vertical-align: middle;\n",
       "    }\n",
       "\n",
       "    .dataframe tbody tr th {\n",
       "        vertical-align: top;\n",
       "    }\n",
       "\n",
       "    .dataframe thead th {\n",
       "        text-align: right;\n",
       "    }\n",
       "</style>\n",
       "<table border=\"1\" class=\"dataframe\">\n",
       "  <thead>\n",
       "    <tr style=\"text-align: right;\">\n",
       "      <th></th>\n",
       "      <th>count</th>\n",
       "      <th>area</th>\n",
       "      <th>min_date</th>\n",
       "      <th>max_date</th>\n",
       "      <th>longitude</th>\n",
       "      <th>latitude</th>\n",
       "      <th>x</th>\n",
       "      <th>y</th>\n",
       "      <th>timestamp</th>\n",
       "    </tr>\n",
       "  </thead>\n",
       "  <tbody>\n",
       "    <tr>\n",
       "      <th>251</th>\n",
       "      <td>72</td>\n",
       "      <td>476</td>\n",
       "      <td>20150602</td>\n",
       "      <td>20171012</td>\n",
       "      <td>-3.696078</td>\n",
       "      <td>-57.218865</td>\n",
       "      <td>1396</td>\n",
       "      <td>2090</td>\n",
       "      <td>20180208::07:48:14</td>\n",
       "    </tr>\n",
       "    <tr>\n",
       "      <th>253</th>\n",
       "      <td>83</td>\n",
       "      <td>295</td>\n",
       "      <td>20151016</td>\n",
       "      <td>20171223</td>\n",
       "      <td>-3.770025</td>\n",
       "      <td>-57.219554</td>\n",
       "      <td>1396</td>\n",
       "      <td>2090</td>\n",
       "      <td>20180208::07:48:14</td>\n",
       "    </tr>\n",
       "    <tr>\n",
       "      <th>254</th>\n",
       "      <td>28</td>\n",
       "      <td>69</td>\n",
       "      <td>20150509</td>\n",
       "      <td>20171028</td>\n",
       "      <td>-3.738383</td>\n",
       "      <td>-57.219554</td>\n",
       "      <td>1396</td>\n",
       "      <td>2090</td>\n",
       "      <td>20180208::07:48:14</td>\n",
       "    </tr>\n",
       "    <tr>\n",
       "      <th>255</th>\n",
       "      <td>56</td>\n",
       "      <td>191</td>\n",
       "      <td>20150509</td>\n",
       "      <td>20171028</td>\n",
       "      <td>-3.714995</td>\n",
       "      <td>-57.222656</td>\n",
       "      <td>1396</td>\n",
       "      <td>2090</td>\n",
       "      <td>20180208::07:48:14</td>\n",
       "    </tr>\n",
       "    <tr>\n",
       "      <th>256</th>\n",
       "      <td>43</td>\n",
       "      <td>269</td>\n",
       "      <td>20150805</td>\n",
       "      <td>20171223</td>\n",
       "      <td>-3.730473</td>\n",
       "      <td>-57.225758</td>\n",
       "      <td>1396</td>\n",
       "      <td>2090</td>\n",
       "      <td>20180208::07:48:14</td>\n",
       "    </tr>\n",
       "  </tbody>\n",
       "</table>\n",
       "</div>"
      ],
      "text/plain": [
       "     count  area  min_date  max_date  longitude   latitude     x     y  \\\n",
       "251     72   476  20150602  20171012  -3.696078 -57.218865  1396  2090   \n",
       "253     83   295  20151016  20171223  -3.770025 -57.219554  1396  2090   \n",
       "254     28    69  20150509  20171028  -3.738383 -57.219554  1396  2090   \n",
       "255     56   191  20150509  20171028  -3.714995 -57.222656  1396  2090   \n",
       "256     43   269  20150805  20171223  -3.730473 -57.225758  1396  2090   \n",
       "\n",
       "              timestamp  \n",
       "251  20180208::07:48:14  \n",
       "253  20180208::07:48:14  \n",
       "254  20180208::07:48:14  \n",
       "255  20180208::07:48:14  \n",
       "256  20180208::07:48:14  "
      ]
     },
     "execution_count": 77,
     "metadata": {},
     "output_type": "execute_result"
    }
   ],
   "source": [
    "print(\"NB CLUSTERS FOR WIDTH = 5:\",c_w5.tile(row_id_w5).shape[0])\n",
    "c_w5.tile(row_id_w5).head()"
   ]
  },
  {
   "cell_type": "code",
   "execution_count": 78,
   "metadata": {},
   "outputs": [
    {
     "name": "stdout",
     "output_type": "stream",
     "text": [
      "NB CLUSTERS FOR WIDTH = 15: 6\n"
     ]
    },
    {
     "data": {
      "text/html": [
       "<div>\n",
       "<style scoped>\n",
       "    .dataframe tbody tr th:only-of-type {\n",
       "        vertical-align: middle;\n",
       "    }\n",
       "\n",
       "    .dataframe tbody tr th {\n",
       "        vertical-align: top;\n",
       "    }\n",
       "\n",
       "    .dataframe thead th {\n",
       "        text-align: right;\n",
       "    }\n",
       "</style>\n",
       "<table border=\"1\" class=\"dataframe\">\n",
       "  <thead>\n",
       "    <tr style=\"text-align: right;\">\n",
       "      <th></th>\n",
       "      <th>count</th>\n",
       "      <th>area</th>\n",
       "      <th>min_date</th>\n",
       "      <th>max_date</th>\n",
       "      <th>longitude</th>\n",
       "      <th>latitude</th>\n",
       "      <th>x</th>\n",
       "      <th>y</th>\n",
       "      <th>timestamp</th>\n",
       "    </tr>\n",
       "  </thead>\n",
       "  <tbody>\n",
       "    <tr>\n",
       "      <th>187</th>\n",
       "      <td>77</td>\n",
       "      <td>2155</td>\n",
       "      <td>20150509</td>\n",
       "      <td>20171223</td>\n",
       "      <td>-3.731161</td>\n",
       "      <td>-57.223001</td>\n",
       "      <td>1396</td>\n",
       "      <td>2090</td>\n",
       "      <td>20180208::07:49:58</td>\n",
       "    </tr>\n",
       "    <tr>\n",
       "      <th>208</th>\n",
       "      <td>923</td>\n",
       "      <td>4495</td>\n",
       "      <td>20150525</td>\n",
       "      <td>20171105</td>\n",
       "      <td>-3.765898</td>\n",
       "      <td>-57.270910</td>\n",
       "      <td>1396</td>\n",
       "      <td>2090</td>\n",
       "      <td>20180208::07:49:58</td>\n",
       "    </tr>\n",
       "    <tr>\n",
       "      <th>209</th>\n",
       "      <td>463</td>\n",
       "      <td>5530</td>\n",
       "      <td>20150728</td>\n",
       "      <td>20171223</td>\n",
       "      <td>-3.717403</td>\n",
       "      <td>-57.267119</td>\n",
       "      <td>1396</td>\n",
       "      <td>2090</td>\n",
       "      <td>20180208::07:49:58</td>\n",
       "    </tr>\n",
       "    <tr>\n",
       "      <th>210</th>\n",
       "      <td>981</td>\n",
       "      <td>10164</td>\n",
       "      <td>20150602</td>\n",
       "      <td>20171105</td>\n",
       "      <td>-3.743886</td>\n",
       "      <td>-57.255055</td>\n",
       "      <td>1396</td>\n",
       "      <td>2090</td>\n",
       "      <td>20180208::07:49:58</td>\n",
       "    </tr>\n",
       "    <tr>\n",
       "      <th>211</th>\n",
       "      <td>728</td>\n",
       "      <td>5754</td>\n",
       "      <td>20150509</td>\n",
       "      <td>20171223</td>\n",
       "      <td>-3.767961</td>\n",
       "      <td>-57.233341</td>\n",
       "      <td>1396</td>\n",
       "      <td>2090</td>\n",
       "      <td>20180208::07:49:58</td>\n",
       "    </tr>\n",
       "  </tbody>\n",
       "</table>\n",
       "</div>"
      ],
      "text/plain": [
       "     count   area  min_date  max_date  longitude   latitude     x     y  \\\n",
       "187     77   2155  20150509  20171223  -3.731161 -57.223001  1396  2090   \n",
       "208    923   4495  20150525  20171105  -3.765898 -57.270910  1396  2090   \n",
       "209    463   5530  20150728  20171223  -3.717403 -57.267119  1396  2090   \n",
       "210    981  10164  20150602  20171105  -3.743886 -57.255055  1396  2090   \n",
       "211    728   5754  20150509  20171223  -3.767961 -57.233341  1396  2090   \n",
       "\n",
       "              timestamp  \n",
       "187  20180208::07:49:58  \n",
       "208  20180208::07:49:58  \n",
       "209  20180208::07:49:58  \n",
       "210  20180208::07:49:58  \n",
       "211  20180208::07:49:58  "
      ]
     },
     "execution_count": 78,
     "metadata": {},
     "output_type": "execute_result"
    }
   ],
   "source": [
    "print(\"NB CLUSTERS FOR WIDTH = 15:\",c_w15.tile(row_id_w15).shape[0])\n",
    "c_w15.tile(row_id_w15).head()"
   ]
  },
  {
   "cell_type": "code",
   "execution_count": 79,
   "metadata": {
    "collapsed": true
   },
   "outputs": [],
   "source": [
    "view5=ClusterViewer(c_w5)\n",
    "view15=ClusterViewer(c_w15)"
   ]
  },
  {
   "cell_type": "code",
   "execution_count": 87,
   "metadata": {},
   "outputs": [
    {
     "name": "stdout",
     "output_type": "stream",
     "text": [
      "WIDTH = 5\n",
      "NB CLUSTERS: 31\n",
      "TOTAL COUNT: 3435\n",
      "TOTAL AREA: 13036\n",
      "DATES: 2015-05-09 to 2017-12-23\n"
     ]
    },
    {
     "data": {
      "image/png": "[encoded data removed]",
      "text/plain": [
       "<matplotlib.figure.Figure at 0x1185e2390>"
      ]
     },
     "metadata": {},
     "output_type": "display_data"
    }
   ],
   "source": [
    "print(\"WIDTH = 5\")\n",
    "view5.input(row_id_w5)"
   ]
  },
  {
   "cell_type": "code",
   "execution_count": 88,
   "metadata": {},
   "outputs": [
    {
     "data": {
      "image/png": "[encoded data removed]",
      "text/plain": [
       "<matplotlib.figure.Figure at 0x118447bd0>"
      ]
     },
     "metadata": {},
     "output_type": "display_data"
    }
   ],
   "source": [
    "view5.clusters(start=251,end=256,convex_hull=True)"
   ]
  },
  {
   "cell_type": "code",
   "execution_count": 89,
   "metadata": {},
   "outputs": [
    {
     "name": "stdout",
     "output_type": "stream",
     "text": [
      "WIDTH = 15\n",
      "NB CLUSTERS: 6\n",
      "TOTAL COUNT: 3512\n",
      "TOTAL AREA: 32074\n",
      "DATES: 2015-05-09 to 2017-12-23\n"
     ]
    },
    {
     "data": {
      "image/png": "[encoded data removed]",
      "text/plain": [
       "<matplotlib.figure.Figure at 0x11805c450>"
      ]
     },
     "metadata": {},
     "output_type": "display_data"
    }
   ],
   "source": [
    "print(\"WIDTH = 15\")\n",
    "view15.input(row_id_w15)"
   ]
  },
  {
   "cell_type": "code",
   "execution_count": 90,
   "metadata": {},
   "outputs": [
    {
     "data": {
      "image/png": "[encoded data removed]",
      "text/plain": [
       "<matplotlib.figure.Figure at 0x118980c90>"
      ]
     },
     "metadata": {},
     "output_type": "display_data"
    }
   ],
   "source": [
    "view15.clusters(start=208,end=213,convex_hull=True)"
   ]
  },
  {
   "cell_type": "code",
   "execution_count": null,
   "metadata": {
    "collapsed": true
   },
   "outputs": [],
   "source": []
  },
  {
   "cell_type": "code",
   "execution_count": null,
   "metadata": {
    "collapsed": true
   },
   "outputs": [],
   "source": []
  }
 ],
 "metadata": {
  "kernelspec": {
   "display_name": "Python 2",
   "language": "python",
   "name": "python2"
  },
  "language_info": {
   "codemirror_mode": {
    "name": "ipython",
    "version": 2
   },
   "file_extension": ".py",
   "mimetype": "text/x-python",
   "name": "python",
   "nbconvert_exporter": "python",
   "pygments_lexer": "ipython2",
   "version": "2.7.13"
  }
 },
 "nbformat": 4,
 "nbformat_minor": 2
}
