{
 "cells": [
  {
   "cell_type": "code",
   "execution_count": 1,
   "metadata": {
    "collapsed": true
   },
   "outputs": [],
   "source": [
    "from __future__ import print_function\n",
    "import os\n",
    "import sys\n",
    "sys.path.append('../')\n",
    "%matplotlib inline"
   ]
  },
  {
   "cell_type": "code",
   "execution_count": 2,
   "metadata": {
    "collapsed": true
   },
   "outputs": [],
   "source": [
    "import local_env\n",
    "import utils.service as us\n",
    "import utils.viewer as uv\n",
    "reload(us)\n",
    "reload(uv)\n",
    "from utils.service import ClusterService\n",
    "from utils.viewer import ClusterViewer"
   ]
  },
  {
   "cell_type": "markdown",
   "metadata": {},
   "source": [
    "---\n",
    "#### ENV VARS"
   ]
  },
  {
   "cell_type": "code",
   "execution_count": 3,
   "metadata": {},
   "outputs": [
    {
     "data": {
      "text/plain": [
       "True"
      ]
     },
     "execution_count": 3,
     "metadata": {},
     "output_type": "execute_result"
    }
   ],
   "source": [
    "None==os.environ.get('table')"
   ]
  },
  {
   "cell_type": "code",
   "execution_count": 4,
   "metadata": {},
   "outputs": [
    {
     "name": "stdout",
     "output_type": "stream",
     "text": [
      "\n",
      "EXPORTING dev ENV:\n",
      "\twidth: 5\n",
      "\titerations: 25\n",
      "\tcsv_bucket: gfw-clusters-test\n",
      "\turl: http://wri-tiles.s3.amazonaws.com/glad_prod/tiles\n",
      "\tmin_count: 25\n",
      "\tbucket: wri-tiles\n",
      "\tzoom: 12\n",
      "\n",
      "\n"
     ]
    }
   ],
   "source": [
    "local_env.export()"
   ]
  },
  {
   "cell_type": "code",
   "execution_count": 5,
   "metadata": {
    "collapsed": true
   },
   "outputs": [],
   "source": [
    "os.environ.get('table')"
   ]
  },
  {
   "cell_type": "markdown",
   "metadata": {},
   "source": [
    "---\n",
    "### ClusterService"
   ]
  },
  {
   "cell_type": "code",
   "execution_count": 6,
   "metadata": {
    "collapsed": true
   },
   "outputs": [],
   "source": [
    "drc_bounds=[[12.1823368669, -13.2572266578], [31.1741492042, 5.25608775474]]"
   ]
  },
  {
   "cell_type": "code",
   "execution_count": 7,
   "metadata": {},
   "outputs": [
    {
     "data": {
      "text/plain": [
       "46221"
      ]
     },
     "execution_count": 7,
     "metadata": {},
     "output_type": "execute_result"
    }
   ],
   "source": [
    "c=ClusterService(bounds=drc_bounds)\n",
    "c.request_size()"
   ]
  },
  {
   "cell_type": "code",
   "execution_count": 8,
   "metadata": {},
   "outputs": [
    {
     "name": "stdout",
     "output_type": "stream",
     "text": [
      "CPU times: user 2min 57s, sys: 34.9 s, total: 3min 32s\n",
      "Wall time: 31min 27s\n",
      "NB ERRORS: 9323\n",
      "NB CLUSTERS: 107928\n"
     ]
    }
   ],
   "source": [
    "%time c.run()\n",
    "print('NB ERRORS:',c.errors().shape[0])\n",
    "print('NB CLUSTERS:',c.dataframe().shape[0])"
   ]
  },
  {
   "cell_type": "code",
   "execution_count": 9,
   "metadata": {},
   "outputs": [
    {
     "name": "stdout",
     "output_type": "stream",
     "text": [
      "FILE WILL BE SAVED TO: clusters_2015-01-01:2025-01-01_2186:1988:2402:2200_12:5:25:25\n",
      "CPU times: user 13.8 s, sys: 2.7 s, total: 16.5 s\n",
      "Wall time: 1min 47s\n"
     ]
    }
   ],
   "source": [
    "filename=c.name()\n",
    "print('FILE WILL BE SAVED TO: {}'.format(filename))\n",
    "%time c.save()"
   ]
  },
  {
   "cell_type": "code",
   "execution_count": 10,
   "metadata": {},
   "outputs": [
    {
     "name": "stdout",
     "output_type": "stream",
     "text": [
      "DATAFRAME: \n"
     ]
    },
    {
     "data": {
      "text/html": [
       "<div>\n",
       "<style scoped>\n",
       "    .dataframe tbody tr th:only-of-type {\n",
       "        vertical-align: middle;\n",
       "    }\n",
       "\n",
       "    .dataframe tbody tr th {\n",
       "        vertical-align: top;\n",
       "    }\n",
       "\n",
       "    .dataframe thead th {\n",
       "        text-align: right;\n",
       "    }\n",
       "</style>\n",
       "<table border=\"1\" class=\"dataframe\">\n",
       "  <thead>\n",
       "    <tr style=\"text-align: right;\">\n",
       "      <th></th>\n",
       "      <th>count</th>\n",
       "      <th>area</th>\n",
       "      <th>min_date</th>\n",
       "      <th>max_date</th>\n",
       "      <th>longitude</th>\n",
       "      <th>latitude</th>\n",
       "      <th>x</th>\n",
       "      <th>y</th>\n",
       "      <th>timestamp</th>\n",
       "    </tr>\n",
       "  </thead>\n",
       "  <tbody>\n",
       "    <tr>\n",
       "      <th>88094</th>\n",
       "      <td>73</td>\n",
       "      <td>391</td>\n",
       "      <td>20150506</td>\n",
       "      <td>20171204</td>\n",
       "      <td>-6.980484</td>\n",
       "      <td>23.232077</td>\n",
       "      <td>2312</td>\n",
       "      <td>2127</td>\n",
       "      <td>20180208::00:34:33</td>\n",
       "    </tr>\n",
       "    <tr>\n",
       "      <th>3738</th>\n",
       "      <td>113</td>\n",
       "      <td>799</td>\n",
       "      <td>20150412</td>\n",
       "      <td>20170721</td>\n",
       "      <td>-0.761007</td>\n",
       "      <td>24.205767</td>\n",
       "      <td>2323</td>\n",
       "      <td>2056</td>\n",
       "      <td>20180208::00:51:36</td>\n",
       "    </tr>\n",
       "    <tr>\n",
       "      <th>43658</th>\n",
       "      <td>88</td>\n",
       "      <td>498</td>\n",
       "      <td>20150309</td>\n",
       "      <td>20180127</td>\n",
       "      <td>2.443652</td>\n",
       "      <td>23.054228</td>\n",
       "      <td>2310</td>\n",
       "      <td>2020</td>\n",
       "      <td>20180208::00:40:38</td>\n",
       "    </tr>\n",
       "    <tr>\n",
       "      <th>74901</th>\n",
       "      <td>53</td>\n",
       "      <td>472</td>\n",
       "      <td>20150513</td>\n",
       "      <td>20170922</td>\n",
       "      <td>-3.385436</td>\n",
       "      <td>23.257238</td>\n",
       "      <td>2312</td>\n",
       "      <td>2086</td>\n",
       "      <td>20180208::00:36:09</td>\n",
       "    </tr>\n",
       "    <tr>\n",
       "      <th>2027</th>\n",
       "      <td>98</td>\n",
       "      <td>788</td>\n",
       "      <td>20150506</td>\n",
       "      <td>20171110</td>\n",
       "      <td>-2.294194</td>\n",
       "      <td>24.102367</td>\n",
       "      <td>2322</td>\n",
       "      <td>2074</td>\n",
       "      <td>20180208::00:54:04</td>\n",
       "    </tr>\n",
       "  </tbody>\n",
       "</table>\n",
       "</div>"
      ],
      "text/plain": [
       "       count  area  min_date  max_date  longitude   latitude     x     y  \\\n",
       "88094     73   391  20150506  20171204  -6.980484  23.232077  2312  2127   \n",
       "3738     113   799  20150412  20170721  -0.761007  24.205767  2323  2056   \n",
       "43658     88   498  20150309  20180127   2.443652  23.054228  2310  2020   \n",
       "74901     53   472  20150513  20170922  -3.385436  23.257238  2312  2086   \n",
       "2027      98   788  20150506  20171110  -2.294194  24.102367  2322  2074   \n",
       "\n",
       "                timestamp  \n",
       "88094  20180208::00:34:33  \n",
       "3738   20180208::00:51:36  \n",
       "43658  20180208::00:40:38  \n",
       "74901  20180208::00:36:09  \n",
       "2027   20180208::00:54:04  "
      ]
     },
     "execution_count": 10,
     "metadata": {},
     "output_type": "execute_result"
    }
   ],
   "source": [
    "print(\"DATAFRAME: \")\n",
    "c.dataframe().sample(5)"
   ]
  },
  {
   "cell_type": "code",
   "execution_count": 11,
   "metadata": {},
   "outputs": [
    {
     "name": "stdout",
     "output_type": "stream",
     "text": [
      "ERRORS: \n"
     ]
    },
    {
     "data": {
      "text/html": [
       "<div>\n",
       "<style scoped>\n",
       "    .dataframe tbody tr th:only-of-type {\n",
       "        vertical-align: middle;\n",
       "    }\n",
       "\n",
       "    .dataframe tbody tr th {\n",
       "        vertical-align: top;\n",
       "    }\n",
       "\n",
       "    .dataframe thead th {\n",
       "        text-align: right;\n",
       "    }\n",
       "</style>\n",
       "<table border=\"1\" class=\"dataframe\">\n",
       "  <thead>\n",
       "    <tr style=\"text-align: right;\">\n",
       "      <th></th>\n",
       "      <th>index</th>\n",
       "      <th>z</th>\n",
       "      <th>x</th>\n",
       "      <th>y</th>\n",
       "      <th>centroid_longitude</th>\n",
       "      <th>centroid_latitude</th>\n",
       "      <th>error</th>\n",
       "      <th>error_trace</th>\n",
       "    </tr>\n",
       "  </thead>\n",
       "  <tbody>\n",
       "    <tr>\n",
       "      <th>0</th>\n",
       "      <td>0</td>\n",
       "      <td>12</td>\n",
       "      <td>2186</td>\n",
       "      <td>1995</td>\n",
       "      <td>12.173024</td>\n",
       "      <td>4.609106</td>\n",
       "      <td>Could not connect to the endpoint URL: \"https:...</td>\n",
       "      <td>service.1</td>\n",
       "    </tr>\n",
       "    <tr>\n",
       "      <th>1</th>\n",
       "      <td>1</td>\n",
       "      <td>12</td>\n",
       "      <td>2186</td>\n",
       "      <td>1996</td>\n",
       "      <td>12.173024</td>\n",
       "      <td>4.521495</td>\n",
       "      <td>Could not connect to the endpoint URL: \"https:...</td>\n",
       "      <td>service.1</td>\n",
       "    </tr>\n",
       "    <tr>\n",
       "      <th>2</th>\n",
       "      <td>2</td>\n",
       "      <td>12</td>\n",
       "      <td>2186</td>\n",
       "      <td>2100</td>\n",
       "      <td>12.173024</td>\n",
       "      <td>-4.609450</td>\n",
       "      <td>Could not connect to the endpoint URL: \"https:...</td>\n",
       "      <td>service.1</td>\n",
       "    </tr>\n",
       "    <tr>\n",
       "      <th>3</th>\n",
       "      <td>3</td>\n",
       "      <td>12</td>\n",
       "      <td>2186</td>\n",
       "      <td>2101</td>\n",
       "      <td>12.173024</td>\n",
       "      <td>-4.697051</td>\n",
       "      <td>Could not connect to the endpoint URL: \"https:...</td>\n",
       "      <td>service.1</td>\n",
       "    </tr>\n",
       "    <tr>\n",
       "      <th>4</th>\n",
       "      <td>4</td>\n",
       "      <td>12</td>\n",
       "      <td>2186</td>\n",
       "      <td>2102</td>\n",
       "      <td>12.173024</td>\n",
       "      <td>-4.784641</td>\n",
       "      <td>Could not connect to the endpoint URL: \"https:...</td>\n",
       "      <td>service.1</td>\n",
       "    </tr>\n",
       "  </tbody>\n",
       "</table>\n",
       "</div>"
      ],
      "text/plain": [
       "   index   z     x     y  centroid_longitude  centroid_latitude  \\\n",
       "0      0  12  2186  1995           12.173024           4.609106   \n",
       "1      1  12  2186  1996           12.173024           4.521495   \n",
       "2      2  12  2186  2100           12.173024          -4.609450   \n",
       "3      3  12  2186  2101           12.173024          -4.697051   \n",
       "4      4  12  2186  2102           12.173024          -4.784641   \n",
       "\n",
       "                                               error error_trace  \n",
       "0  Could not connect to the endpoint URL: \"https:...   service.1  \n",
       "1  Could not connect to the endpoint URL: \"https:...   service.1  \n",
       "2  Could not connect to the endpoint URL: \"https:...   service.1  \n",
       "3  Could not connect to the endpoint URL: \"https:...   service.1  \n",
       "4  Could not connect to the endpoint URL: \"https:...   service.1  "
      ]
     },
     "execution_count": 11,
     "metadata": {},
     "output_type": "execute_result"
    }
   ],
   "source": [
    "print(\"ERRORS: \")\n",
    "c.errors().head()"
   ]
  },
  {
   "cell_type": "code",
   "execution_count": 12,
   "metadata": {},
   "outputs": [
    {
     "data": {
      "text/html": [
       "<div>\n",
       "<style scoped>\n",
       "    .dataframe tbody tr th:only-of-type {\n",
       "        vertical-align: middle;\n",
       "    }\n",
       "\n",
       "    .dataframe tbody tr th {\n",
       "        vertical-align: top;\n",
       "    }\n",
       "\n",
       "    .dataframe thead th {\n",
       "        text-align: right;\n",
       "    }\n",
       "</style>\n",
       "<table border=\"1\" class=\"dataframe\">\n",
       "  <thead>\n",
       "    <tr style=\"text-align: right;\">\n",
       "      <th></th>\n",
       "      <th>index</th>\n",
       "      <th>z</th>\n",
       "      <th>x</th>\n",
       "      <th>y</th>\n",
       "      <th>centroid_longitude</th>\n",
       "      <th>centroid_latitude</th>\n",
       "      <th>error</th>\n",
       "      <th>error_trace</th>\n",
       "    </tr>\n",
       "  </thead>\n",
       "  <tbody>\n",
       "    <tr>\n",
       "      <th>9318</th>\n",
       "      <td>9318</td>\n",
       "      <td>12</td>\n",
       "      <td>2402</td>\n",
       "      <td>2196</td>\n",
       "      <td>31.157399</td>\n",
       "      <td>-12.940490</td>\n",
       "      <td>http://wri-tiles.s3.amazonaws.com/glad_prod/ti...</td>\n",
       "      <td>handler.2</td>\n",
       "    </tr>\n",
       "    <tr>\n",
       "      <th>9319</th>\n",
       "      <td>9319</td>\n",
       "      <td>12</td>\n",
       "      <td>2402</td>\n",
       "      <td>2197</td>\n",
       "      <td>31.157399</td>\n",
       "      <td>-13.026134</td>\n",
       "      <td>http://wri-tiles.s3.amazonaws.com/glad_prod/ti...</td>\n",
       "      <td>handler.2</td>\n",
       "    </tr>\n",
       "    <tr>\n",
       "      <th>9320</th>\n",
       "      <td>9320</td>\n",
       "      <td>12</td>\n",
       "      <td>2402</td>\n",
       "      <td>2198</td>\n",
       "      <td>31.157399</td>\n",
       "      <td>-13.111748</td>\n",
       "      <td>http://wri-tiles.s3.amazonaws.com/glad_prod/ti...</td>\n",
       "      <td>handler.2</td>\n",
       "    </tr>\n",
       "    <tr>\n",
       "      <th>9321</th>\n",
       "      <td>9321</td>\n",
       "      <td>12</td>\n",
       "      <td>2402</td>\n",
       "      <td>2199</td>\n",
       "      <td>31.157399</td>\n",
       "      <td>-13.197332</td>\n",
       "      <td>http://wri-tiles.s3.amazonaws.com/glad_prod/ti...</td>\n",
       "      <td>handler.2</td>\n",
       "    </tr>\n",
       "    <tr>\n",
       "      <th>9322</th>\n",
       "      <td>9322</td>\n",
       "      <td>12</td>\n",
       "      <td>2402</td>\n",
       "      <td>2200</td>\n",
       "      <td>31.157399</td>\n",
       "      <td>-13.282887</td>\n",
       "      <td>http://wri-tiles.s3.amazonaws.com/glad_prod/ti...</td>\n",
       "      <td>handler.2</td>\n",
       "    </tr>\n",
       "  </tbody>\n",
       "</table>\n",
       "</div>"
      ],
      "text/plain": [
       "      index   z     x     y  centroid_longitude  centroid_latitude  \\\n",
       "9318   9318  12  2402  2196           31.157399         -12.940490   \n",
       "9319   9319  12  2402  2197           31.157399         -13.026134   \n",
       "9320   9320  12  2402  2198           31.157399         -13.111748   \n",
       "9321   9321  12  2402  2199           31.157399         -13.197332   \n",
       "9322   9322  12  2402  2200           31.157399         -13.282887   \n",
       "\n",
       "                                                  error error_trace  \n",
       "9318  http://wri-tiles.s3.amazonaws.com/glad_prod/ti...   handler.2  \n",
       "9319  http://wri-tiles.s3.amazonaws.com/glad_prod/ti...   handler.2  \n",
       "9320  http://wri-tiles.s3.amazonaws.com/glad_prod/ti...   handler.2  \n",
       "9321  http://wri-tiles.s3.amazonaws.com/glad_prod/ti...   handler.2  \n",
       "9322  http://wri-tiles.s3.amazonaws.com/glad_prod/ti...   handler.2  "
      ]
     },
     "execution_count": 12,
     "metadata": {},
     "output_type": "execute_result"
    }
   ],
   "source": [
    "c.errors().tail()"
   ]
  },
  {
   "cell_type": "code",
   "execution_count": 13,
   "metadata": {
    "collapsed": true
   },
   "outputs": [],
   "source": [
    "del(c)"
   ]
  },
  {
   "cell_type": "markdown",
   "metadata": {},
   "source": [
    "---\n",
    "# ERRORS"
   ]
  },
  {
   "cell_type": "code",
   "execution_count": 14,
   "metadata": {
    "collapsed": true
   },
   "outputs": [],
   "source": [
    "reload(us)\n",
    "reload(uv)\n",
    "from utils.service import ClusterService\n",
    "from utils.viewer import ClusterViewer"
   ]
  },
  {
   "cell_type": "code",
   "execution_count": 15,
   "metadata": {},
   "outputs": [
    {
     "name": "stdout",
     "output_type": "stream",
     "text": [
      "CPU times: user 7.75 s, sys: 582 ms, total: 8.33 s\n",
      "Wall time: 17.1 s\n"
     ]
    }
   ],
   "source": [
    "%time c=ClusterService.read(filename)"
   ]
  },
  {
   "cell_type": "code",
   "execution_count": 16,
   "metadata": {},
   "outputs": [
    {
     "data": {
      "text/html": [
       "<div>\n",
       "<style scoped>\n",
       "    .dataframe tbody tr th:only-of-type {\n",
       "        vertical-align: middle;\n",
       "    }\n",
       "\n",
       "    .dataframe tbody tr th {\n",
       "        vertical-align: top;\n",
       "    }\n",
       "\n",
       "    .dataframe thead th {\n",
       "        text-align: right;\n",
       "    }\n",
       "</style>\n",
       "<table border=\"1\" class=\"dataframe\">\n",
       "  <thead>\n",
       "    <tr style=\"text-align: right;\">\n",
       "      <th></th>\n",
       "      <th>count</th>\n",
       "      <th>area</th>\n",
       "      <th>min_date</th>\n",
       "      <th>max_date</th>\n",
       "      <th>longitude</th>\n",
       "      <th>latitude</th>\n",
       "      <th>x</th>\n",
       "      <th>y</th>\n",
       "      <th>timestamp</th>\n",
       "    </tr>\n",
       "  </thead>\n",
       "  <tbody>\n",
       "    <tr>\n",
       "      <th>27250</th>\n",
       "      <td>60</td>\n",
       "      <td>553</td>\n",
       "      <td>20150529</td>\n",
       "      <td>20170829</td>\n",
       "      <td>-3.984262</td>\n",
       "      <td>23.494370</td>\n",
       "      <td>2315</td>\n",
       "      <td>2093</td>\n",
       "      <td>20180208::00:42:56</td>\n",
       "    </tr>\n",
       "    <tr>\n",
       "      <th>34573</th>\n",
       "      <td>90</td>\n",
       "      <td>821</td>\n",
       "      <td>20150430</td>\n",
       "      <td>20180131</td>\n",
       "      <td>3.355846</td>\n",
       "      <td>28.774357</td>\n",
       "      <td>2375</td>\n",
       "      <td>2009</td>\n",
       "      <td>20180208::00:41:54</td>\n",
       "    </tr>\n",
       "    <tr>\n",
       "      <th>881</th>\n",
       "      <td>171</td>\n",
       "      <td>1012</td>\n",
       "      <td>20150709</td>\n",
       "      <td>20171002</td>\n",
       "      <td>-1.348221</td>\n",
       "      <td>25.468290</td>\n",
       "      <td>2337</td>\n",
       "      <td>2063</td>\n",
       "      <td>20180208::00:57:49</td>\n",
       "    </tr>\n",
       "    <tr>\n",
       "      <th>39181</th>\n",
       "      <td>79</td>\n",
       "      <td>571</td>\n",
       "      <td>20150313</td>\n",
       "      <td>20171112</td>\n",
       "      <td>-2.682613</td>\n",
       "      <td>27.993336</td>\n",
       "      <td>2366</td>\n",
       "      <td>2078</td>\n",
       "      <td>20180208::00:41:16</td>\n",
       "    </tr>\n",
       "    <tr>\n",
       "      <th>102303</th>\n",
       "      <td>31</td>\n",
       "      <td>242</td>\n",
       "      <td>20150424</td>\n",
       "      <td>20180117</td>\n",
       "      <td>2.807240</td>\n",
       "      <td>20.046645</td>\n",
       "      <td>2276</td>\n",
       "      <td>2016</td>\n",
       "      <td>20180208::00:32:47</td>\n",
       "    </tr>\n",
       "  </tbody>\n",
       "</table>\n",
       "</div>"
      ],
      "text/plain": [
       "        count  area  min_date  max_date  longitude   latitude     x     y  \\\n",
       "27250      60   553  20150529  20170829  -3.984262  23.494370  2315  2093   \n",
       "34573      90   821  20150430  20180131   3.355846  28.774357  2375  2009   \n",
       "881       171  1012  20150709  20171002  -1.348221  25.468290  2337  2063   \n",
       "39181      79   571  20150313  20171112  -2.682613  27.993336  2366  2078   \n",
       "102303     31   242  20150424  20180117   2.807240  20.046645  2276  2016   \n",
       "\n",
       "                 timestamp  \n",
       "27250   20180208::00:42:56  \n",
       "34573   20180208::00:41:54  \n",
       "881     20180208::00:57:49  \n",
       "39181   20180208::00:41:16  \n",
       "102303  20180208::00:32:47  "
      ]
     },
     "execution_count": 16,
     "metadata": {},
     "output_type": "execute_result"
    }
   ],
   "source": [
    "c.dataframe().sample(5)"
   ]
  },
  {
   "cell_type": "code",
   "execution_count": null,
   "metadata": {
    "collapsed": true
   },
   "outputs": [],
   "source": []
  }
 ],
 "metadata": {
  "kernelspec": {
   "display_name": "Python 2",
   "language": "python",
   "name": "python2"
  },
  "language_info": {
   "codemirror_mode": {
    "name": "ipython",
    "version": 2
   },
   "file_extension": ".py",
   "mimetype": "text/x-python",
   "name": "python",
   "nbconvert_exporter": "python",
   "pygments_lexer": "ipython2",
   "version": "2.7.13"
  }
 },
 "nbformat": 4,
 "nbformat_minor": 2
}
