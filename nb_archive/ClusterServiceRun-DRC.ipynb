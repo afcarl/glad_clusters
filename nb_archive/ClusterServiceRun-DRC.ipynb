{
 "cells": [
  {
   "cell_type": "code",
   "execution_count": 1,
   "metadata": {
    "collapsed": true
   },
   "outputs": [],
   "source": [
    "from __future__ import print_function\n",
    "import os\n",
    "import sys\n",
    "sys.path.append('../')\n",
    "%matplotlib inline"
   ]
  },
  {
   "cell_type": "code",
   "execution_count": 2,
   "metadata": {
    "collapsed": true
   },
   "outputs": [],
   "source": [
    "import local_env\n",
    "import utils.service as us\n",
    "import utils.viewer as uv\n",
    "reload(us)\n",
    "reload(uv)\n",
    "from utils.service import ClusterService\n",
    "from utils.viewer import ClusterViewer"
   ]
  },
  {
   "cell_type": "markdown",
   "metadata": {},
   "source": [
    "---\n",
    "#### ENV VARS"
   ]
  },
  {
   "cell_type": "code",
   "execution_count": 3,
   "metadata": {},
   "outputs": [
    {
     "data": {
      "text/plain": [
       "True"
      ]
     },
     "execution_count": 3,
     "metadata": {},
     "output_type": "execute_result"
    }
   ],
   "source": [
    "None==os.environ.get('table')"
   ]
  },
  {
   "cell_type": "code",
   "execution_count": 4,
   "metadata": {},
   "outputs": [
    {
     "name": "stdout",
     "output_type": "stream",
     "text": [
      "\n",
      "EXPORTING dev ENV:\n",
      "\twidth: 5\n",
      "\titerations: 25\n",
      "\tcsv_bucket: gfw-clusters-test\n",
      "\turl: http://wri-tiles.s3.amazonaws.com/glad_prod/tiles\n",
      "\tmin_count: 25\n",
      "\tbucket: wri-tiles\n",
      "\tzoom: 12\n",
      "\n",
      "\n"
     ]
    }
   ],
   "source": [
    "local_env.export()"
   ]
  },
  {
   "cell_type": "code",
   "execution_count": 5,
   "metadata": {
    "collapsed": true
   },
   "outputs": [],
   "source": [
    "os.environ.get('table')"
   ]
  },
  {
   "cell_type": "markdown",
   "metadata": {},
   "source": [
    "---\n",
    "### ClusterService"
   ]
  },
  {
   "cell_type": "code",
   "execution_count": 6,
   "metadata": {
    "collapsed": true
   },
   "outputs": [],
   "source": [
    "drc_bounds=[[12.1823368669, -13.2572266578], [31.1741492042, 5.25608775474]]"
   ]
  },
  {
   "cell_type": "code",
   "execution_count": 7,
   "metadata": {},
   "outputs": [
    {
     "data": {
      "text/plain": [
       "46221"
      ]
     },
     "execution_count": 7,
     "metadata": {},
     "output_type": "execute_result"
    }
   ],
   "source": [
    "c=ClusterService(bounds=drc_bounds)\n",
    "c.request_size()"
   ]
  },
  {
   "cell_type": "code",
   "execution_count": 8,
   "metadata": {},
   "outputs": [
    {
     "name": "stdout",
     "output_type": "stream",
     "text": [
      "CPU times: user 2min 57s, sys: 34.9 s, total: 3min 32s\n",
      "Wall time: 31min 27s\n",
      "NB ERRORS: 9323\n",
      "NB CLUSTERS: 107928\n"
     ]
    }
   ],
   "source": [
    "%time c.run()\n",
    "print('NB ERRORS:',c.errors().shape[0])\n",
    "print('NB CLUSTERS:',c.dataframe().shape[0])"
   ]
  },
  {
   "cell_type": "code",
   "execution_count": 9,
   "metadata": {},
   "outputs": [
    {
     "name": "stdout",
     "output_type": "stream",
     "text": [
      "FILE WILL BE SAVED TO: clusters_2015-01-01:2025-01-01_2186:1988:2402:2200_12:5:25:25\n",
      "CPU times: user 13.8 s, sys: 2.7 s, total: 16.5 s\n",
      "Wall time: 1min 47s\n"
     ]
    }
   ],
   "source": [
    "filename=c.name()\n",
    "print('FILE WILL BE SAVED TO: {}'.format(filename))\n",
    "%time c.save()"
   ]
  },
  {
   "cell_type": "code",
   "execution_count": 10,
   "metadata": {},
   "outputs": [
    {
     "name": "stdout",
     "output_type": "stream",
     "text": [
      "DATAFRAME: \n"
     ]
    },
    {
     "data": {
      "text/html": [
       "<div>\n",
       "<style scoped>\n",
       "    .dataframe tbody tr th:only-of-type {\n",
       "        vertical-align: middle;\n",
       "    }\n",
       "\n",
       "    .dataframe tbody tr th {\n",
       "        vertical-align: top;\n",
       "    }\n",
       "\n",
       "    .dataframe thead th {\n",
       "        text-align: right;\n",
       "    }\n",
       "</style>\n",
       "<table border=\"1\" class=\"dataframe\">\n",
       "  <thead>\n",
       "    <tr style=\"text-align: right;\">\n",
       "      <th></th>\n",
       "      <th>count</th>\n",
       "      <th>area</th>\n",
       "      <th>min_date</th>\n",
       "      <th>max_date</th>\n",
       "      <th>longitude</th>\n",
       "      <th>latitude</th>\n",
       "      <th>x</th>\n",
       "      <th>y</th>\n",
       "      <th>timestamp</th>\n",
       "    </tr>\n",
       "  </thead>\n",
       "  <tbody>\n",
       "    <tr>\n",
       "      <th>88094</th>\n",
       "      <td>73</td>\n",
       "      <td>391</td>\n",
       "      <td>20150506</td>\n",
       "      <td>20171204</td>\n",
       "      <td>-6.980484</td>\n",
       "      <td>23.232077</td>\n",
       "      <td>2312</td>\n",
       "      <td>2127</td>\n",
       "      <td>20180208::00:34:33</td>\n",
       "    </tr>\n",
       "    <tr>\n",
       "      <th>3738</th>\n",
       "      <td>113</td>\n",
       "      <td>799</td>\n",
       "      <td>20150412</td>\n",
       "      <td>20170721</td>\n",
       "      <td>-0.761007</td>\n",
       "      <td>24.205767</td>\n",
       "      <td>2323</td>\n",
       "      <td>2056</td>\n",
       "      <td>20180208::00:51:36</td>\n",
       "    </tr>\n",
       "    <tr>\n",
       "      <th>43658</th>\n",
       "      <td>88</td>\n",
       "      <td>498</td>\n",
       "      <td>20150309</td>\n",
       "      <td>20180127</td>\n",
       "      <td>2.443652</td>\n",
       "      <td>23.054228</td>\n",
       "      <td>2310</td>\n",
       "      <td>2020</td>\n",
       "      <td>20180208::00:40:38</td>\n",
       "    </tr>\n",
       "    <tr>\n",
       "      <th>74901</th>\n",
       "      <td>53</td>\n",
       "      <td>472</td>\n",
       "      <td>20150513</td>\n",
       "      <td>20170922</td>\n",
       "      <td>-3.385436</td>\n",
       "      <td>23.257238</td>\n",
       "      <td>2312</td>\n",
       "      <td>2086</td>\n",
       "      <td>20180208::00:36:09</td>\n",
       "    </tr>\n",
       "    <tr>\n",
       "      <th>2027</th>\n",
       "      <td>98</td>\n",
       "      <td>788</td>\n",
       "      <td>20150506</td>\n",
       "      <td>20171110</td>\n",
       "      <td>-2.294194</td>\n",
       "      <td>24.102367</td>\n",
       "      <td>2322</td>\n",
       "      <td>2074</td>\n",
       "      <td>20180208::00:54:04</td>\n",
       "    </tr>\n",
       "  </tbody>\n",
       "</table>\n",
       "</div>"
      ],
      "text/plain": [
       "       count  area  min_date  max_date  longitude   latitude     x     y  \\\n",
       "88094     73   391  20150506  20171204  -6.980484  23.232077  2312  2127   \n",
       "3738     113   799  20150412  20170721  -0.761007  24.205767  2323  2056   \n",
       "43658     88   498  20150309  20180127   2.443652  23.054228  2310  2020   \n",
       "74901     53   472  20150513  20170922  -3.385436  23.257238  2312  2086   \n",
       "2027      98   788  20150506  20171110  -2.294194  24.102367  2322  2074   \n",
       "\n",
       "                timestamp  \n",
       "88094  20180208::00:34:33  \n",
       "3738   20180208::00:51:36  \n",
       "43658  20180208::00:40:38  \n",
       "74901  20180208::00:36:09  \n",
       "2027   20180208::00:54:04  "
      ]
     },
     "execution_count": 10,
     "metadata": {},
     "output_type": "execute_result"
    }
   ],
   "source": [
    "print(\"DATAFRAME: \")\n",
    "c.dataframe().sample(5)"
   ]
  },
  {
   "cell_type": "code",
   "execution_count": 11,
   "metadata": {},
   "outputs": [
    {
     "name": "stdout",
     "output_type": "stream",
     "text": [
      "ERRORS: \n"
     ]
    },
    {
     "data": {
      "text/html": [
       "<div>\n",
       "<style scoped>\n",
       "    .dataframe tbody tr th:only-of-type {\n",
       "        vertical-align: middle;\n",
       "    }\n",
       "\n",
       "    .dataframe tbody tr th {\n",
       "        vertical-align: top;\n",
       "    }\n",
       "\n",
       "    .dataframe thead th {\n",
       "        text-align: right;\n",
       "    }\n",
       "</style>\n",
       "<table border=\"1\" class=\"dataframe\">\n",
       "  <thead>\n",
       "    <tr style=\"text-align: right;\">\n",
       "      <th></th>\n",
       "      <th>index</th>\n",
       "      <th>z</th>\n",
       "      <th>x</th>\n",
       "      <th>y</th>\n",
       "      <th>centroid_longitude</th>\n",
       "      <th>centroid_latitude</th>\n",
       "      <th>error</th>\n",
       "      <th>error_trace</th>\n",
       "    </tr>\n",
       "  </thead>\n",
       "  <tbody>\n",
       "    <tr>\n",
       "      <th>0</th>\n",
       "      <td>0</td>\n",
       "      <td>12</td>\n",
       "      <td>2186</td>\n",
       "      <td>1995</td>\n",
       "      <td>12.173024</td>\n",
       "      <td>4.609106</td>\n",
       "      <td>Could not connect to the endpoint URL: \"https:...</td>\n",
       "      <td>service.1</td>\n",
       "    </tr>\n",
       "    <tr>\n",
       "      <th>1</th>\n",
       "      <td>1</td>\n",
       "      <td>12</td>\n",
       "      <td>2186</td>\n",
       "      <td>1996</td>\n",
       "      <td>12.173024</td>\n",
       "      <td>4.521495</td>\n",
       "      <td>Could not connect to the endpoint URL: \"https:...</td>\n",
       "      <td>service.1</td>\n",
       "    </tr>\n",
       "    <tr>\n",
       "      <th>2</th>\n",
       "      <td>2</td>\n",
       "      <td>12</td>\n",
       "      <td>2186</td>\n",
       "      <td>2100</td>\n",
       "      <td>12.173024</td>\n",
       "      <td>-4.609450</td>\n",
       "      <td>Could not connect to the endpoint URL: \"https:...</td>\n",
       "      <td>service.1</td>\n",
       "    </tr>\n",
       "    <tr>\n",
       "      <th>3</th>\n",
       "      <td>3</td>\n",
       "      <td>12</td>\n",
       "      <td>2186</td>\n",
       "      <td>2101</td>\n",
       "      <td>12.173024</td>\n",
       "      <td>-4.697051</td>\n",
       "      <td>Could not connect to the endpoint URL: \"https:...</td>\n",
       "      <td>service.1</td>\n",
       "    </tr>\n",
       "    <tr>\n",
       "      <th>4</th>\n",
       "      <td>4</td>\n",
       "      <td>12</td>\n",
       "      <td>2186</td>\n",
       "      <td>2102</td>\n",
       "      <td>12.173024</td>\n",
       "      <td>-4.784641</td>\n",
       "      <td>Could not connect to the endpoint URL: \"https:...</td>\n",
       "      <td>service.1</td>\n",
       "    </tr>\n",
       "  </tbody>\n",
       "</table>\n",
       "</div>"
      ],
      "text/plain": [
       "   index   z     x     y  centroid_longitude  centroid_latitude  \\\n",
       "0      0  12  2186  1995           12.173024           4.609106   \n",
       "1      1  12  2186  1996           12.173024           4.521495   \n",
       "2      2  12  2186  2100           12.173024          -4.609450   \n",
       "3      3  12  2186  2101           12.173024          -4.697051   \n",
       "4      4  12  2186  2102           12.173024          -4.784641   \n",
       "\n",
       "                                               error error_trace  \n",
       "0  Could not connect to the endpoint URL: \"https:...   service.1  \n",
       "1  Could not connect to the endpoint URL: \"https:...   service.1  \n",
       "2  Could not connect to the endpoint URL: \"https:...   service.1  \n",
       "3  Could not connect to the endpoint URL: \"https:...   service.1  \n",
       "4  Could not connect to the endpoint URL: \"https:...   service.1  "
      ]
     },
     "execution_count": 11,
     "metadata": {},
     "output_type": "execute_result"
    }
   ],
   "source": [
    "print(\"ERRORS: \")\n",
    "c.errors().head()"
   ]
  },
  {
   "cell_type": "code",
   "execution_count": 12,
   "metadata": {},
   "outputs": [
    {
     "data": {
      "text/html": [
       "<div>\n",
       "<style scoped>\n",
       "    .dataframe tbody tr th:only-of-type {\n",
       "        vertical-align: middle;\n",
       "    }\n",
       "\n",
       "    .dataframe tbody tr th {\n",
       "        vertical-align: top;\n",
       "    }\n",
       "\n",
       "    .dataframe thead th {\n",
       "        text-align: right;\n",
       "    }\n",
       "</style>\n",
       "<table border=\"1\" class=\"dataframe\">\n",
       "  <thead>\n",
       "    <tr style=\"text-align: right;\">\n",
       "      <th></th>\n",
       "      <th>index</th>\n",
       "      <th>z</th>\n",
       "      <th>x</th>\n",
       "      <th>y</th>\n",
       "      <th>centroid_longitude</th>\n",
       "      <th>centroid_latitude</th>\n",
       "      <th>error</th>\n",
       "      <th>error_trace</th>\n",
       "    </tr>\n",
       "  </thead>\n",
       "  <tbody>\n",
       "    <tr>\n",
       "      <th>9318</th>\n",
       "      <td>9318</td>\n",
       "      <td>12</td>\n",
       "      <td>2402</td>\n",
       "      <td>2196</td>\n",
       "      <td>31.157399</td>\n",
       "      <td>-12.940490</td>\n",
       "      <td>http://wri-tiles.s3.amazonaws.com/glad_prod/ti...</td>\n",
       "      <td>handler.2</td>\n",
       "    </tr>\n",
       "    <tr>\n",
       "      <th>9319</th>\n",
       "      <td>9319</td>\n",
       "      <td>12</td>\n",
       "      <td>2402</td>\n",
       "      <td>2197</td>\n",
       "      <td>31.157399</td>\n",
       "      <td>-13.026134</td>\n",
       "      <td>http://wri-tiles.s3.amazonaws.com/glad_prod/ti...</td>\n",
       "      <td>handler.2</td>\n",
       "    </tr>\n",
       "    <tr>\n",
       "      <th>9320</th>\n",
       "      <td>9320</td>\n",
       "      <td>12</td>\n",
       "      <td>2402</td>\n",
       "      <td>2198</td>\n",
       "      <td>31.157399</td>\n",
       "      <td>-13.111748</td>\n",
       "      <td>http://wri-tiles.s3.amazonaws.com/glad_prod/ti...</td>\n",
       "      <td>handler.2</td>\n",
       "    </tr>\n",
       "    <tr>\n",
       "      <th>9321</th>\n",
       "      <td>9321</td>\n",
       "      <td>12</td>\n",
       "      <td>2402</td>\n",
       "      <td>2199</td>\n",
       "      <td>31.157399</td>\n",
       "      <td>-13.197332</td>\n",
       "      <td>http://wri-tiles.s3.amazonaws.com/glad_prod/ti...</td>\n",
       "      <td>handler.2</td>\n",
       "    </tr>\n",
       "    <tr>\n",
       "      <th>9322</th>\n",
       "      <td>9322</td>\n",
       "      <td>12</td>\n",
       "      <td>2402</td>\n",
       "      <td>2200</td>\n",
       "      <td>31.157399</td>\n",
       "      <td>-13.282887</td>\n",
       "      <td>http://wri-tiles.s3.amazonaws.com/glad_prod/ti...</td>\n",
       "      <td>handler.2</td>\n",
       "    </tr>\n",
       "  </tbody>\n",
       "</table>\n",
       "</div>"
      ],
      "text/plain": [
       "      index   z     x     y  centroid_longitude  centroid_latitude  \\\n",
       "9318   9318  12  2402  2196           31.157399         -12.940490   \n",
       "9319   9319  12  2402  2197           31.157399         -13.026134   \n",
       "9320   9320  12  2402  2198           31.157399         -13.111748   \n",
       "9321   9321  12  2402  2199           31.157399         -13.197332   \n",
       "9322   9322  12  2402  2200           31.157399         -13.282887   \n",
       "\n",
       "                                                  error error_trace  \n",
       "9318  http://wri-tiles.s3.amazonaws.com/glad_prod/ti...   handler.2  \n",
       "9319  http://wri-tiles.s3.amazonaws.com/glad_prod/ti...   handler.2  \n",
       "9320  http://wri-tiles.s3.amazonaws.com/glad_prod/ti...   handler.2  \n",
       "9321  http://wri-tiles.s3.amazonaws.com/glad_prod/ti...   handler.2  \n",
       "9322  http://wri-tiles.s3.amazonaws.com/glad_prod/ti...   handler.2  "
      ]
     },
     "execution_count": 12,
     "metadata": {},
     "output_type": "execute_result"
    }
   ],
   "source": [
    "c.errors().tail()"
   ]
  },
  {
   "cell_type": "code",
   "execution_count": 13,
   "metadata": {
    "collapsed": true
   },
   "outputs": [],
   "source": [
    "del(c)"
   ]
  },
  {
   "cell_type": "markdown",
   "metadata": {},
   "source": [
    "---\n",
    "# ERRORS"
   ]
  },
  {
   "cell_type": "code",
   "execution_count": 45,
   "metadata": {
    "collapsed": true
   },
   "outputs": [],
   "source": [
    "reload(us)\n",
    "reload(uv)\n",
    "from utils.service import ClusterService\n",
    "from utils.viewer import ClusterViewer\n",
    "import numpy as np"
   ]
  },
  {
   "cell_type": "code",
   "execution_count": 46,
   "metadata": {},
   "outputs": [
    {
     "name": "stdout",
     "output_type": "stream",
     "text": [
      "CPU times: user 8.16 s, sys: 645 ms, total: 8.81 s\n",
      "Wall time: 17.5 s\n"
     ]
    }
   ],
   "source": [
    "%time c=ClusterService.read(filename)"
   ]
  },
  {
   "cell_type": "code",
   "execution_count": 47,
   "metadata": {},
   "outputs": [
    {
     "data": {
      "text/html": [
       "<div>\n",
       "<style scoped>\n",
       "    .dataframe tbody tr th:only-of-type {\n",
       "        vertical-align: middle;\n",
       "    }\n",
       "\n",
       "    .dataframe tbody tr th {\n",
       "        vertical-align: top;\n",
       "    }\n",
       "\n",
       "    .dataframe thead th {\n",
       "        text-align: right;\n",
       "    }\n",
       "</style>\n",
       "<table border=\"1\" class=\"dataframe\">\n",
       "  <thead>\n",
       "    <tr style=\"text-align: right;\">\n",
       "      <th></th>\n",
       "      <th>count</th>\n",
       "      <th>area</th>\n",
       "      <th>min_date</th>\n",
       "      <th>max_date</th>\n",
       "      <th>longitude</th>\n",
       "      <th>latitude</th>\n",
       "      <th>x</th>\n",
       "      <th>y</th>\n",
       "      <th>timestamp</th>\n",
       "    </tr>\n",
       "  </thead>\n",
       "  <tbody>\n",
       "    <tr>\n",
       "      <th>39529</th>\n",
       "      <td>43</td>\n",
       "      <td>374</td>\n",
       "      <td>20150414</td>\n",
       "      <td>20180131</td>\n",
       "      <td>3.922025</td>\n",
       "      <td>28.769531</td>\n",
       "      <td>2375</td>\n",
       "      <td>2003</td>\n",
       "      <td>20180208::00:41:12</td>\n",
       "    </tr>\n",
       "    <tr>\n",
       "      <th>67290</th>\n",
       "      <td>53</td>\n",
       "      <td>322</td>\n",
       "      <td>20150214</td>\n",
       "      <td>20180120</td>\n",
       "      <td>4.544859</td>\n",
       "      <td>24.925437</td>\n",
       "      <td>2331</td>\n",
       "      <td>1996</td>\n",
       "      <td>20180208::00:37:10</td>\n",
       "    </tr>\n",
       "    <tr>\n",
       "      <th>102425</th>\n",
       "      <td>54</td>\n",
       "      <td>282</td>\n",
       "      <td>20150407</td>\n",
       "      <td>20171012</td>\n",
       "      <td>-0.774793</td>\n",
       "      <td>17.626723</td>\n",
       "      <td>2248</td>\n",
       "      <td>2056</td>\n",
       "      <td>20180208::00:32:46</td>\n",
       "    </tr>\n",
       "    <tr>\n",
       "      <th>104872</th>\n",
       "      <td>31</td>\n",
       "      <td>72</td>\n",
       "      <td>20150930</td>\n",
       "      <td>20171215</td>\n",
       "      <td>-3.276361</td>\n",
       "      <td>17.105928</td>\n",
       "      <td>2242</td>\n",
       "      <td>2085</td>\n",
       "      <td>20180208::00:32:22</td>\n",
       "    </tr>\n",
       "    <tr>\n",
       "      <th>78748</th>\n",
       "      <td>180</td>\n",
       "      <td>793</td>\n",
       "      <td>20150205</td>\n",
       "      <td>20180103</td>\n",
       "      <td>3.717403</td>\n",
       "      <td>22.673713</td>\n",
       "      <td>2305</td>\n",
       "      <td>2005</td>\n",
       "      <td>20180208::00:35:41</td>\n",
       "    </tr>\n",
       "  </tbody>\n",
       "</table>\n",
       "</div>"
      ],
      "text/plain": [
       "        count  area  min_date  max_date  longitude   latitude     x     y  \\\n",
       "39529      43   374  20150414  20180131   3.922025  28.769531  2375  2003   \n",
       "67290      53   322  20150214  20180120   4.544859  24.925437  2331  1996   \n",
       "102425     54   282  20150407  20171012  -0.774793  17.626723  2248  2056   \n",
       "104872     31    72  20150930  20171215  -3.276361  17.105928  2242  2085   \n",
       "78748     180   793  20150205  20180103   3.717403  22.673713  2305  2005   \n",
       "\n",
       "                 timestamp  \n",
       "39529   20180208::00:41:12  \n",
       "67290   20180208::00:37:10  \n",
       "102425  20180208::00:32:46  \n",
       "104872  20180208::00:32:22  \n",
       "78748   20180208::00:35:41  "
      ]
     },
     "execution_count": 47,
     "metadata": {},
     "output_type": "execute_result"
    }
   ],
   "source": [
    "c.dataframe().sample(5)"
   ]
  },
  {
   "cell_type": "code",
   "execution_count": 48,
   "metadata": {},
   "outputs": [
    {
     "data": {
      "text/html": [
       "<div>\n",
       "<style scoped>\n",
       "    .dataframe tbody tr th:only-of-type {\n",
       "        vertical-align: middle;\n",
       "    }\n",
       "\n",
       "    .dataframe tbody tr th {\n",
       "        vertical-align: top;\n",
       "    }\n",
       "\n",
       "    .dataframe thead th {\n",
       "        text-align: right;\n",
       "    }\n",
       "</style>\n",
       "<table border=\"1\" class=\"dataframe\">\n",
       "  <thead>\n",
       "    <tr style=\"text-align: right;\">\n",
       "      <th></th>\n",
       "      <th>index</th>\n",
       "      <th>z</th>\n",
       "      <th>x</th>\n",
       "      <th>y</th>\n",
       "      <th>centroid_longitude</th>\n",
       "      <th>centroid_latitude</th>\n",
       "      <th>error</th>\n",
       "      <th>error_trace</th>\n",
       "    </tr>\n",
       "  </thead>\n",
       "  <tbody>\n",
       "    <tr>\n",
       "      <th>0</th>\n",
       "      <td>0</td>\n",
       "      <td>12</td>\n",
       "      <td>2186</td>\n",
       "      <td>1995</td>\n",
       "      <td>12.173024</td>\n",
       "      <td>4.609106</td>\n",
       "      <td>Could not connect to the endpoint URL: \"https:...</td>\n",
       "      <td>service.1</td>\n",
       "    </tr>\n",
       "    <tr>\n",
       "      <th>1</th>\n",
       "      <td>1</td>\n",
       "      <td>12</td>\n",
       "      <td>2186</td>\n",
       "      <td>1996</td>\n",
       "      <td>12.173024</td>\n",
       "      <td>4.521495</td>\n",
       "      <td>Could not connect to the endpoint URL: \"https:...</td>\n",
       "      <td>service.1</td>\n",
       "    </tr>\n",
       "    <tr>\n",
       "      <th>2</th>\n",
       "      <td>2</td>\n",
       "      <td>12</td>\n",
       "      <td>2186</td>\n",
       "      <td>2100</td>\n",
       "      <td>12.173024</td>\n",
       "      <td>-4.609450</td>\n",
       "      <td>Could not connect to the endpoint URL: \"https:...</td>\n",
       "      <td>service.1</td>\n",
       "    </tr>\n",
       "    <tr>\n",
       "      <th>3</th>\n",
       "      <td>3</td>\n",
       "      <td>12</td>\n",
       "      <td>2186</td>\n",
       "      <td>2101</td>\n",
       "      <td>12.173024</td>\n",
       "      <td>-4.697051</td>\n",
       "      <td>Could not connect to the endpoint URL: \"https:...</td>\n",
       "      <td>service.1</td>\n",
       "    </tr>\n",
       "    <tr>\n",
       "      <th>4</th>\n",
       "      <td>4</td>\n",
       "      <td>12</td>\n",
       "      <td>2186</td>\n",
       "      <td>2102</td>\n",
       "      <td>12.173024</td>\n",
       "      <td>-4.784641</td>\n",
       "      <td>Could not connect to the endpoint URL: \"https:...</td>\n",
       "      <td>service.1</td>\n",
       "    </tr>\n",
       "  </tbody>\n",
       "</table>\n",
       "</div>"
      ],
      "text/plain": [
       "   index   z     x     y  centroid_longitude  centroid_latitude  \\\n",
       "0      0  12  2186  1995           12.173024           4.609106   \n",
       "1      1  12  2186  1996           12.173024           4.521495   \n",
       "2      2  12  2186  2100           12.173024          -4.609450   \n",
       "3      3  12  2186  2101           12.173024          -4.697051   \n",
       "4      4  12  2186  2102           12.173024          -4.784641   \n",
       "\n",
       "                                               error error_trace  \n",
       "0  Could not connect to the endpoint URL: \"https:...   service.1  \n",
       "1  Could not connect to the endpoint URL: \"https:...   service.1  \n",
       "2  Could not connect to the endpoint URL: \"https:...   service.1  \n",
       "3  Could not connect to the endpoint URL: \"https:...   service.1  \n",
       "4  Could not connect to the endpoint URL: \"https:...   service.1  "
      ]
     },
     "execution_count": 48,
     "metadata": {},
     "output_type": "execute_result"
    }
   ],
   "source": [
    "c.errors().head()"
   ]
  },
  {
   "cell_type": "code",
   "execution_count": 49,
   "metadata": {
    "collapsed": true
   },
   "outputs": [],
   "source": [
    "E_BADCONNECTION=\"Could not connect\"\n",
    "E_TILEDOESNOTEXIST='png not found'\n",
    "E_TIMEOUT='2018-02-08T'\n",
    "E_INVALIDSIG='InvalidSignatureException'"
   ]
  },
  {
   "cell_type": "code",
   "execution_count": 50,
   "metadata": {},
   "outputs": [
    {
     "name": "stdout",
     "output_type": "stream",
     "text": [
      "BAD CONNECTION ERRORS: 2423\n"
     ]
    },
    {
     "data": {
      "text/html": [
       "<div>\n",
       "<style scoped>\n",
       "    .dataframe tbody tr th:only-of-type {\n",
       "        vertical-align: middle;\n",
       "    }\n",
       "\n",
       "    .dataframe tbody tr th {\n",
       "        vertical-align: top;\n",
       "    }\n",
       "\n",
       "    .dataframe thead th {\n",
       "        text-align: right;\n",
       "    }\n",
       "</style>\n",
       "<table border=\"1\" class=\"dataframe\">\n",
       "  <thead>\n",
       "    <tr style=\"text-align: right;\">\n",
       "      <th></th>\n",
       "      <th>index</th>\n",
       "      <th>z</th>\n",
       "      <th>x</th>\n",
       "      <th>y</th>\n",
       "      <th>centroid_longitude</th>\n",
       "      <th>centroid_latitude</th>\n",
       "      <th>error</th>\n",
       "      <th>error_trace</th>\n",
       "    </tr>\n",
       "  </thead>\n",
       "  <tbody>\n",
       "    <tr>\n",
       "      <th>0</th>\n",
       "      <td>0</td>\n",
       "      <td>12</td>\n",
       "      <td>2186</td>\n",
       "      <td>1995</td>\n",
       "      <td>12.173024</td>\n",
       "      <td>4.609106</td>\n",
       "      <td>Could not connect to the endpoint URL: \"https:...</td>\n",
       "      <td>service.1</td>\n",
       "    </tr>\n",
       "    <tr>\n",
       "      <th>1</th>\n",
       "      <td>1</td>\n",
       "      <td>12</td>\n",
       "      <td>2186</td>\n",
       "      <td>1996</td>\n",
       "      <td>12.173024</td>\n",
       "      <td>4.521495</td>\n",
       "      <td>Could not connect to the endpoint URL: \"https:...</td>\n",
       "      <td>service.1</td>\n",
       "    </tr>\n",
       "    <tr>\n",
       "      <th>2</th>\n",
       "      <td>2</td>\n",
       "      <td>12</td>\n",
       "      <td>2186</td>\n",
       "      <td>2100</td>\n",
       "      <td>12.173024</td>\n",
       "      <td>-4.609450</td>\n",
       "      <td>Could not connect to the endpoint URL: \"https:...</td>\n",
       "      <td>service.1</td>\n",
       "    </tr>\n",
       "    <tr>\n",
       "      <th>3</th>\n",
       "      <td>3</td>\n",
       "      <td>12</td>\n",
       "      <td>2186</td>\n",
       "      <td>2101</td>\n",
       "      <td>12.173024</td>\n",
       "      <td>-4.697051</td>\n",
       "      <td>Could not connect to the endpoint URL: \"https:...</td>\n",
       "      <td>service.1</td>\n",
       "    </tr>\n",
       "    <tr>\n",
       "      <th>4</th>\n",
       "      <td>4</td>\n",
       "      <td>12</td>\n",
       "      <td>2186</td>\n",
       "      <td>2102</td>\n",
       "      <td>12.173024</td>\n",
       "      <td>-4.784641</td>\n",
       "      <td>Could not connect to the endpoint URL: \"https:...</td>\n",
       "      <td>service.1</td>\n",
       "    </tr>\n",
       "  </tbody>\n",
       "</table>\n",
       "</div>"
      ],
      "text/plain": [
       "   index   z     x     y  centroid_longitude  centroid_latitude  \\\n",
       "0      0  12  2186  1995           12.173024           4.609106   \n",
       "1      1  12  2186  1996           12.173024           4.521495   \n",
       "2      2  12  2186  2100           12.173024          -4.609450   \n",
       "3      3  12  2186  2101           12.173024          -4.697051   \n",
       "4      4  12  2186  2102           12.173024          -4.784641   \n",
       "\n",
       "                                               error error_trace  \n",
       "0  Could not connect to the endpoint URL: \"https:...   service.1  \n",
       "1  Could not connect to the endpoint URL: \"https:...   service.1  \n",
       "2  Could not connect to the endpoint URL: \"https:...   service.1  \n",
       "3  Could not connect to the endpoint URL: \"https:...   service.1  \n",
       "4  Could not connect to the endpoint URL: \"https:...   service.1  "
      ]
     },
     "execution_count": 50,
     "metadata": {},
     "output_type": "execute_result"
    }
   ],
   "source": [
    "connection_died_errors=c.errors()[c.errors().error.str.contains(E_BADCONNECTION)]\n",
    "print(\"BAD CONNECTION ERRORS:\",connection_died_errors.shape[0])\n",
    "connection_died_errors.head()"
   ]
  },
  {
   "cell_type": "code",
   "execution_count": 51,
   "metadata": {},
   "outputs": [
    {
     "name": "stdout",
     "output_type": "stream",
     "text": [
      "NO TILE (NOT AN ERROR) ERRORS: 6888\n"
     ]
    },
    {
     "data": {
      "text/html": [
       "<div>\n",
       "<style scoped>\n",
       "    .dataframe tbody tr th:only-of-type {\n",
       "        vertical-align: middle;\n",
       "    }\n",
       "\n",
       "    .dataframe tbody tr th {\n",
       "        vertical-align: top;\n",
       "    }\n",
       "\n",
       "    .dataframe thead th {\n",
       "        text-align: right;\n",
       "    }\n",
       "</style>\n",
       "<table border=\"1\" class=\"dataframe\">\n",
       "  <thead>\n",
       "    <tr style=\"text-align: right;\">\n",
       "      <th></th>\n",
       "      <th>index</th>\n",
       "      <th>z</th>\n",
       "      <th>x</th>\n",
       "      <th>y</th>\n",
       "      <th>centroid_longitude</th>\n",
       "      <th>centroid_latitude</th>\n",
       "      <th>error</th>\n",
       "      <th>error_trace</th>\n",
       "    </tr>\n",
       "  </thead>\n",
       "  <tbody>\n",
       "    <tr>\n",
       "      <th>7</th>\n",
       "      <td>7</td>\n",
       "      <td>12</td>\n",
       "      <td>2186</td>\n",
       "      <td>2129</td>\n",
       "      <td>12.173024</td>\n",
       "      <td>-7.144670</td>\n",
       "      <td>http://wri-tiles.s3.amazonaws.com/glad_prod/ti...</td>\n",
       "      <td>handler.2</td>\n",
       "    </tr>\n",
       "    <tr>\n",
       "      <th>8</th>\n",
       "      <td>8</td>\n",
       "      <td>12</td>\n",
       "      <td>2186</td>\n",
       "      <td>2130</td>\n",
       "      <td>12.173024</td>\n",
       "      <td>-7.231870</td>\n",
       "      <td>http://wri-tiles.s3.amazonaws.com/glad_prod/ti...</td>\n",
       "      <td>handler.2</td>\n",
       "    </tr>\n",
       "    <tr>\n",
       "      <th>9</th>\n",
       "      <td>9</td>\n",
       "      <td>12</td>\n",
       "      <td>2186</td>\n",
       "      <td>2131</td>\n",
       "      <td>12.173024</td>\n",
       "      <td>-7.319053</td>\n",
       "      <td>http://wri-tiles.s3.amazonaws.com/glad_prod/ti...</td>\n",
       "      <td>handler.2</td>\n",
       "    </tr>\n",
       "    <tr>\n",
       "      <th>10</th>\n",
       "      <td>10</td>\n",
       "      <td>12</td>\n",
       "      <td>2186</td>\n",
       "      <td>2132</td>\n",
       "      <td>12.173024</td>\n",
       "      <td>-7.406219</td>\n",
       "      <td>http://wri-tiles.s3.amazonaws.com/glad_prod/ti...</td>\n",
       "      <td>handler.2</td>\n",
       "    </tr>\n",
       "    <tr>\n",
       "      <th>11</th>\n",
       "      <td>11</td>\n",
       "      <td>12</td>\n",
       "      <td>2186</td>\n",
       "      <td>2133</td>\n",
       "      <td>12.173024</td>\n",
       "      <td>-7.493367</td>\n",
       "      <td>http://wri-tiles.s3.amazonaws.com/glad_prod/ti...</td>\n",
       "      <td>handler.2</td>\n",
       "    </tr>\n",
       "  </tbody>\n",
       "</table>\n",
       "</div>"
      ],
      "text/plain": [
       "    index   z     x     y  centroid_longitude  centroid_latitude  \\\n",
       "7       7  12  2186  2129           12.173024          -7.144670   \n",
       "8       8  12  2186  2130           12.173024          -7.231870   \n",
       "9       9  12  2186  2131           12.173024          -7.319053   \n",
       "10     10  12  2186  2132           12.173024          -7.406219   \n",
       "11     11  12  2186  2133           12.173024          -7.493367   \n",
       "\n",
       "                                                error error_trace  \n",
       "7   http://wri-tiles.s3.amazonaws.com/glad_prod/ti...   handler.2  \n",
       "8   http://wri-tiles.s3.amazonaws.com/glad_prod/ti...   handler.2  \n",
       "9   http://wri-tiles.s3.amazonaws.com/glad_prod/ti...   handler.2  \n",
       "10  http://wri-tiles.s3.amazonaws.com/glad_prod/ti...   handler.2  \n",
       "11  http://wri-tiles.s3.amazonaws.com/glad_prod/ti...   handler.2  "
      ]
     },
     "execution_count": 51,
     "metadata": {},
     "output_type": "execute_result"
    }
   ],
   "source": [
    "no_tile_errors=c.errors()[c.errors().error.str.contains(E_TILEDOESNOTEXIST)]\n",
    "print(\"NO TILE (NOT AN ERROR) ERRORS:\",no_tile_errors.shape[0])\n",
    "no_tile_errors.head()"
   ]
  },
  {
   "cell_type": "code",
   "execution_count": 40,
   "metadata": {
    "collapsed": true
   },
   "outputs": [],
   "source": [
    "no_tile_errors=c.errors()[c.errors().error.str.contains(E_TILEDOESNOTEXIST)]\n",
    "print(\"NO TILE (NOT AN ERROR) ERRORS:\",no_tile_errors.shape[0])\n",
    "no_tile_errors.head()"
   ]
  },
  {
   "cell_type": "code",
   "execution_count": 52,
   "metadata": {},
   "outputs": [
    {
     "name": "stdout",
     "output_type": "stream",
     "text": [
      "TIMEOUT ERRORS: 8\n"
     ]
    },
    {
     "data": {
      "text/html": [
       "<div>\n",
       "<style scoped>\n",
       "    .dataframe tbody tr th:only-of-type {\n",
       "        vertical-align: middle;\n",
       "    }\n",
       "\n",
       "    .dataframe tbody tr th {\n",
       "        vertical-align: top;\n",
       "    }\n",
       "\n",
       "    .dataframe thead th {\n",
       "        text-align: right;\n",
       "    }\n",
       "</style>\n",
       "<table border=\"1\" class=\"dataframe\">\n",
       "  <thead>\n",
       "    <tr style=\"text-align: right;\">\n",
       "      <th></th>\n",
       "      <th>index</th>\n",
       "      <th>z</th>\n",
       "      <th>x</th>\n",
       "      <th>y</th>\n",
       "      <th>centroid_longitude</th>\n",
       "      <th>centroid_latitude</th>\n",
       "      <th>error</th>\n",
       "      <th>error_trace</th>\n",
       "    </tr>\n",
       "  </thead>\n",
       "  <tbody>\n",
       "    <tr>\n",
       "      <th>230</th>\n",
       "      <td>230</td>\n",
       "      <td>12</td>\n",
       "      <td>2189</td>\n",
       "      <td>2013</td>\n",
       "      <td>12.436696</td>\n",
       "      <td>3.030640</td>\n",
       "      <td>2018-02-08T00:48:30.110Z 15233c4c-0c69-11e8-ac...</td>\n",
       "      <td>service.2</td>\n",
       "    </tr>\n",
       "    <tr>\n",
       "      <th>3213</th>\n",
       "      <td>3213</td>\n",
       "      <td>12</td>\n",
       "      <td>2226</td>\n",
       "      <td>2042</td>\n",
       "      <td>15.688649</td>\n",
       "      <td>0.483220</td>\n",
       "      <td>2018-02-08T00:50:10.394Z 50e4a0d2-0c69-11e8-96...</td>\n",
       "      <td>service.2</td>\n",
       "    </tr>\n",
       "    <tr>\n",
       "      <th>3302</th>\n",
       "      <td>3302</td>\n",
       "      <td>12</td>\n",
       "      <td>2227</td>\n",
       "      <td>2037</td>\n",
       "      <td>15.776540</td>\n",
       "      <td>0.922639</td>\n",
       "      <td>2018-02-08T00:58:44.309Z 83344f24-0c6a-11e8-b1...</td>\n",
       "      <td>service.2</td>\n",
       "    </tr>\n",
       "    <tr>\n",
       "      <th>3380</th>\n",
       "      <td>3380</td>\n",
       "      <td>12</td>\n",
       "      <td>2228</td>\n",
       "      <td>2035</td>\n",
       "      <td>15.864430</td>\n",
       "      <td>1.098393</td>\n",
       "      <td>2018-02-08T00:47:02.651Z e0f959d3-0c68-11e8-9d...</td>\n",
       "      <td>service.2</td>\n",
       "    </tr>\n",
       "    <tr>\n",
       "      <th>3381</th>\n",
       "      <td>3381</td>\n",
       "      <td>12</td>\n",
       "      <td>2228</td>\n",
       "      <td>2036</td>\n",
       "      <td>15.864430</td>\n",
       "      <td>1.010517</td>\n",
       "      <td>2018-02-08T00:52:03.367Z 93fbc417-0c69-11e8-aa...</td>\n",
       "      <td>service.2</td>\n",
       "    </tr>\n",
       "  </tbody>\n",
       "</table>\n",
       "</div>"
      ],
      "text/plain": [
       "      index   z     x     y  centroid_longitude  centroid_latitude  \\\n",
       "230     230  12  2189  2013           12.436696           3.030640   \n",
       "3213   3213  12  2226  2042           15.688649           0.483220   \n",
       "3302   3302  12  2227  2037           15.776540           0.922639   \n",
       "3380   3380  12  2228  2035           15.864430           1.098393   \n",
       "3381   3381  12  2228  2036           15.864430           1.010517   \n",
       "\n",
       "                                                  error error_trace  \n",
       "230   2018-02-08T00:48:30.110Z 15233c4c-0c69-11e8-ac...   service.2  \n",
       "3213  2018-02-08T00:50:10.394Z 50e4a0d2-0c69-11e8-96...   service.2  \n",
       "3302  2018-02-08T00:58:44.309Z 83344f24-0c6a-11e8-b1...   service.2  \n",
       "3380  2018-02-08T00:47:02.651Z e0f959d3-0c68-11e8-9d...   service.2  \n",
       "3381  2018-02-08T00:52:03.367Z 93fbc417-0c69-11e8-aa...   service.2  "
      ]
     },
     "execution_count": 52,
     "metadata": {},
     "output_type": "execute_result"
    }
   ],
   "source": [
    "time_out_errors=c.errors()[c.errors().error.str.contains(E_TIMEOUT)]\n",
    "print(\"TIMEOUT ERRORS:\",time_out_errors.shape[0])\n",
    "time_out_errors.head()"
   ]
  },
  {
   "cell_type": "code",
   "execution_count": 53,
   "metadata": {},
   "outputs": [
    {
     "name": "stdout",
     "output_type": "stream",
     "text": [
      "INVALID SIG ERRORS: 4\n"
     ]
    },
    {
     "data": {
      "text/html": [
       "<div>\n",
       "<style scoped>\n",
       "    .dataframe tbody tr th:only-of-type {\n",
       "        vertical-align: middle;\n",
       "    }\n",
       "\n",
       "    .dataframe tbody tr th {\n",
       "        vertical-align: top;\n",
       "    }\n",
       "\n",
       "    .dataframe thead th {\n",
       "        text-align: right;\n",
       "    }\n",
       "</style>\n",
       "<table border=\"1\" class=\"dataframe\">\n",
       "  <thead>\n",
       "    <tr style=\"text-align: right;\">\n",
       "      <th></th>\n",
       "      <th>index</th>\n",
       "      <th>z</th>\n",
       "      <th>x</th>\n",
       "      <th>y</th>\n",
       "      <th>centroid_longitude</th>\n",
       "      <th>centroid_latitude</th>\n",
       "      <th>error</th>\n",
       "      <th>error_trace</th>\n",
       "    </tr>\n",
       "  </thead>\n",
       "  <tbody>\n",
       "    <tr>\n",
       "      <th>390</th>\n",
       "      <td>390</td>\n",
       "      <td>12</td>\n",
       "      <td>2191</td>\n",
       "      <td>2084</td>\n",
       "      <td>12.612477</td>\n",
       "      <td>-3.206505</td>\n",
       "      <td>An error occurred (InvalidSignatureException) ...</td>\n",
       "      <td>service.1</td>\n",
       "    </tr>\n",
       "    <tr>\n",
       "      <th>1151</th>\n",
       "      <td>1151</td>\n",
       "      <td>12</td>\n",
       "      <td>2200</td>\n",
       "      <td>2151</td>\n",
       "      <td>13.403493</td>\n",
       "      <td>-9.058872</td>\n",
       "      <td>An error occurred (InvalidSignatureException) ...</td>\n",
       "      <td>service.1</td>\n",
       "    </tr>\n",
       "    <tr>\n",
       "      <th>2478</th>\n",
       "      <td>2478</td>\n",
       "      <td>12</td>\n",
       "      <td>2217</td>\n",
       "      <td>2006</td>\n",
       "      <td>14.897633</td>\n",
       "      <td>3.644828</td>\n",
       "      <td>An error occurred (InvalidSignatureException) ...</td>\n",
       "      <td>service.1</td>\n",
       "    </tr>\n",
       "    <tr>\n",
       "      <th>2595</th>\n",
       "      <td>2595</td>\n",
       "      <td>12</td>\n",
       "      <td>2218</td>\n",
       "      <td>2150</td>\n",
       "      <td>14.985524</td>\n",
       "      <td>-8.972068</td>\n",
       "      <td>An error occurred (InvalidSignatureException) ...</td>\n",
       "      <td>service.1</td>\n",
       "    </tr>\n",
       "  </tbody>\n",
       "</table>\n",
       "</div>"
      ],
      "text/plain": [
       "      index   z     x     y  centroid_longitude  centroid_latitude  \\\n",
       "390     390  12  2191  2084           12.612477          -3.206505   \n",
       "1151   1151  12  2200  2151           13.403493          -9.058872   \n",
       "2478   2478  12  2217  2006           14.897633           3.644828   \n",
       "2595   2595  12  2218  2150           14.985524          -8.972068   \n",
       "\n",
       "                                                  error error_trace  \n",
       "390   An error occurred (InvalidSignatureException) ...   service.1  \n",
       "1151  An error occurred (InvalidSignatureException) ...   service.1  \n",
       "2478  An error occurred (InvalidSignatureException) ...   service.1  \n",
       "2595  An error occurred (InvalidSignatureException) ...   service.1  "
      ]
     },
     "execution_count": 53,
     "metadata": {},
     "output_type": "execute_result"
    }
   ],
   "source": [
    "invalidsig_errors=c.errors()[c.errors().error.str.contains(E_INVALIDSIG)]\n",
    "print(\"INVALID SIG ERRORS:\",invalidsig_errors.shape[0])\n",
    "invalidsig_errors.head()"
   ]
  },
  {
   "cell_type": "markdown",
   "metadata": {},
   "source": [
    "---\n",
    "# VIEW TIMEOUTS"
   ]
  },
  {
   "cell_type": "code",
   "execution_count": 54,
   "metadata": {
    "collapsed": true
   },
   "outputs": [],
   "source": [
    "view=ClusterViewer(c)"
   ]
  },
  {
   "cell_type": "code",
   "execution_count": 61,
   "metadata": {},
   "outputs": [
    {
     "data": {
      "image/png": "[encoded data removed]",
      "text/plain": [
       "<matplotlib.figure.Figure at 0x130145550>"
      ]
     },
     "metadata": {},
     "output_type": "display_data"
    }
   ],
   "source": [
    "view.tile(z=12,x=2189,y=2013)"
   ]
  },
  {
   "cell_type": "code",
   "execution_count": 62,
   "metadata": {},
   "outputs": [
    {
     "data": {
      "image/png": "[encoded data removed]",
      "text/plain": [
       "<matplotlib.figure.Figure at 0x13d3f8d90>"
      ]
     },
     "metadata": {},
     "output_type": "display_data"
    }
   ],
   "source": [
    "view.tile(z=12,x=2226,y=2042)"
   ]
  },
  {
   "cell_type": "code",
   "execution_count": 63,
   "metadata": {},
   "outputs": [
    {
     "data": {
      "image/png": "[encoded data removed]",
      "text/plain": [
       "<matplotlib.figure.Figure at 0x143843610>"
      ]
     },
     "metadata": {},
     "output_type": "display_data"
    }
   ],
   "source": [
    "view.tile(z=12,x=2227,y=2037)"
   ]
  },
  {
   "cell_type": "code",
   "execution_count": null,
   "metadata": {
    "collapsed": true
   },
   "outputs": [],
   "source": []
  }
 ],
 "metadata": {
  "kernelspec": {
   "display_name": "Python 2",
   "language": "python",
   "name": "python2"
  },
  "language_info": {
   "codemirror_mode": {
    "name": "ipython",
    "version": 2
   },
   "file_extension": ".py",
   "mimetype": "text/x-python",
   "name": "python",
   "nbconvert_exporter": "python",
   "pygments_lexer": "ipython2",
   "version": "2.7.13"
  }
 },
 "nbformat": 4,
 "nbformat_minor": 2
}
