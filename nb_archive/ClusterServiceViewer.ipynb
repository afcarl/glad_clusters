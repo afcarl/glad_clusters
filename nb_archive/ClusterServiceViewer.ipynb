{
 "cells": [
  {
   "cell_type": "code",
   "execution_count": 1,
   "metadata": {
    "collapsed": true
   },
   "outputs": [],
   "source": [
    "from __future__ import print_function\n",
    "import os\n",
    "%matplotlib inline"
   ]
  },
  {
   "cell_type": "code",
   "execution_count": 2,
   "metadata": {
    "collapsed": true
   },
   "outputs": [],
   "source": [
    "import glad_clusters.local_env as local_env\n",
    "import glad_clusters.utils.service as us\n",
    "import glad_clusters.utils.viewer as uv\n",
    "reload(us)\n",
    "reload(uv)\n",
    "from glad_clusters.utils.service import ClusterService\n",
    "from glad_clusters.utils.viewer import ClusterViewer"
   ]
  },
  {
   "cell_type": "markdown",
   "metadata": {},
   "source": [
    "---\n",
    "#### ENV VARS"
   ]
  },
  {
   "cell_type": "code",
   "execution_count": 3,
   "metadata": {},
   "outputs": [
    {
     "data": {
      "text/plain": [
       "True"
      ]
     },
     "execution_count": 3,
     "metadata": {},
     "output_type": "execute_result"
    }
   ],
   "source": [
    "None==os.environ.get('csv_bucket')"
   ]
  },
  {
   "cell_type": "code",
   "execution_count": 4,
   "metadata": {},
   "outputs": [
    {
     "name": "stdout",
     "output_type": "stream",
     "text": [
      "\n",
      "EXPORTING dev ENV:\n",
      "\twidth: 5\n",
      "\titerations: 25\n",
      "\tcsv_bucket: gfw-clusters-test\n",
      "\turl: http://wri-tiles.s3.amazonaws.com/glad_prod/tiles\n",
      "\tmin_count: 25\n",
      "\tbucket: wri-tiles\n",
      "\tzoom: 12\n",
      "\n",
      "\n"
     ]
    }
   ],
   "source": [
    "local_env.export()"
   ]
  },
  {
   "cell_type": "code",
   "execution_count": 5,
   "metadata": {},
   "outputs": [
    {
     "data": {
      "text/plain": [
       "'gfw-clusters-test'"
      ]
     },
     "execution_count": 5,
     "metadata": {},
     "output_type": "execute_result"
    }
   ],
   "source": [
    "os.environ.get('csv_bucket')"
   ]
  },
  {
   "cell_type": "markdown",
   "metadata": {},
   "source": [
    "---\n",
    "### ClusterService"
   ]
  },
  {
   "cell_type": "code",
   "execution_count": 6,
   "metadata": {
    "collapsed": true
   },
   "outputs": [],
   "source": [
    "bounds_manaus=[[-60.16113281250001,-3.2940822283128046],[-59.83154296874999,-2.964984369333955]]              "
   ]
  },
  {
   "cell_type": "code",
   "execution_count": 7,
   "metadata": {},
   "outputs": [
    {
     "data": {
      "text/plain": [
       "25"
      ]
     },
     "execution_count": 7,
     "metadata": {},
     "output_type": "execute_result"
    }
   ],
   "source": [
    "c=ClusterService(bounds=bounds_manaus)\n",
    "c.request_size()"
   ]
  },
  {
   "cell_type": "code",
   "execution_count": 8,
   "metadata": {},
   "outputs": [
    {
     "data": {
      "text/plain": [
       "(1363, 2081, 1367, 2085)"
      ]
     },
     "execution_count": 8,
     "metadata": {},
     "output_type": "execute_result"
    }
   ],
   "source": [
    "c.x_min,c.y_min,c.x_max,c.y_max"
   ]
  },
  {
   "cell_type": "code",
   "execution_count": 9,
   "metadata": {},
   "outputs": [
    {
     "name": "stdout",
     "output_type": "stream",
     "text": [
      "CPU times: user 956 ms, sys: 177 ms, total: 1.13 s\n",
      "Wall time: 2min 48s\n",
      "NB ERRORS: 0\n",
      "NB CLUSTERS: 434\n"
     ]
    }
   ],
   "source": [
    "%time c.run()\n",
    "print('NB ERRORS:',c.errors().shape[0])\n",
    "print('NB CLUSTERS:',c.dataframe().shape[0])"
   ]
  },
  {
   "cell_type": "code",
   "execution_count": 10,
   "metadata": {
    "collapsed": true
   },
   "outputs": [],
   "source": [
    "# prefix for file name, defaults to clusters\n",
    "IDENT=\"dev_manaus\"\n",
    "filename=c.name(IDENT)"
   ]
  },
  {
   "cell_type": "code",
   "execution_count": 11,
   "metadata": {},
   "outputs": [
    {
     "name": "stdout",
     "output_type": "stream",
     "text": [
      "FILE WILL BE SAVED TO: dev_manaus_2015-01-01:2018-02-09_1363:2081:1367:2085_12:5:25:25\n",
      "CPU times: user 196 ms, sys: 18.8 ms, total: 215 ms\n",
      "Wall time: 5.81 s\n"
     ]
    }
   ],
   "source": [
    "print('FILE WILL BE SAVED TO: {}'.format(filename))\n",
    "%time c.save(IDENT)"
   ]
  },
  {
   "cell_type": "code",
   "execution_count": 12,
   "metadata": {},
   "outputs": [
    {
     "name": "stdout",
     "output_type": "stream",
     "text": [
      "RESULTS ARE STORED IN DATAFRAME:  (434, 9) (434, 15)\n"
     ]
    },
    {
     "data": {
      "text/html": [
       "<div>\n",
       "<style scoped>\n",
       "    .dataframe tbody tr th:only-of-type {\n",
       "        vertical-align: middle;\n",
       "    }\n",
       "\n",
       "    .dataframe tbody tr th {\n",
       "        vertical-align: top;\n",
       "    }\n",
       "\n",
       "    .dataframe thead th {\n",
       "        text-align: right;\n",
       "    }\n",
       "</style>\n",
       "<table border=\"1\" class=\"dataframe\">\n",
       "  <thead>\n",
       "    <tr style=\"text-align: right;\">\n",
       "      <th></th>\n",
       "      <th>count</th>\n",
       "      <th>area</th>\n",
       "      <th>min_date</th>\n",
       "      <th>max_date</th>\n",
       "      <th>longitude</th>\n",
       "      <th>latitude</th>\n",
       "      <th>x</th>\n",
       "      <th>y</th>\n",
       "      <th>timestamp</th>\n",
       "    </tr>\n",
       "  </thead>\n",
       "  <tbody>\n",
       "    <tr>\n",
       "      <th>152</th>\n",
       "      <td>61</td>\n",
       "      <td>169</td>\n",
       "      <td>20150328</td>\n",
       "      <td>20180122</td>\n",
       "      <td>-2.945623</td>\n",
       "      <td>-59.933824</td>\n",
       "      <td>1366</td>\n",
       "      <td>2081</td>\n",
       "      <td>20180209::21:21:25</td>\n",
       "    </tr>\n",
       "    <tr>\n",
       "      <th>90</th>\n",
       "      <td>45</td>\n",
       "      <td>536</td>\n",
       "      <td>20150328</td>\n",
       "      <td>20170823</td>\n",
       "      <td>-3.234379</td>\n",
       "      <td>-60.185777</td>\n",
       "      <td>1363</td>\n",
       "      <td>2084</td>\n",
       "      <td>20180209::21:21:26</td>\n",
       "    </tr>\n",
       "    <tr>\n",
       "      <th>292</th>\n",
       "      <td>98</td>\n",
       "      <td>714</td>\n",
       "      <td>20150811</td>\n",
       "      <td>20170823</td>\n",
       "      <td>-3.114618</td>\n",
       "      <td>-60.132698</td>\n",
       "      <td>1363</td>\n",
       "      <td>2083</td>\n",
       "      <td>20180209::21:21:25</td>\n",
       "    </tr>\n",
       "    <tr>\n",
       "      <th>417</th>\n",
       "      <td>45</td>\n",
       "      <td>343</td>\n",
       "      <td>20150515</td>\n",
       "      <td>20180122</td>\n",
       "      <td>-3.220614</td>\n",
       "      <td>-60.047220</td>\n",
       "      <td>1364</td>\n",
       "      <td>2084</td>\n",
       "      <td>20180209::21:21:25</td>\n",
       "    </tr>\n",
       "    <tr>\n",
       "      <th>200</th>\n",
       "      <td>177</td>\n",
       "      <td>482</td>\n",
       "      <td>20150920</td>\n",
       "      <td>20170823</td>\n",
       "      <td>-3.331416</td>\n",
       "      <td>-59.845588</td>\n",
       "      <td>1367</td>\n",
       "      <td>2085</td>\n",
       "      <td>20180209::21:21:25</td>\n",
       "    </tr>\n",
       "  </tbody>\n",
       "</table>\n",
       "</div>"
      ],
      "text/plain": [
       "     count  area  min_date  max_date  longitude   latitude     x     y  \\\n",
       "152     61   169  20150328  20180122  -2.945623 -59.933824  1366  2081   \n",
       "90      45   536  20150328  20170823  -3.234379 -60.185777  1363  2084   \n",
       "292     98   714  20150811  20170823  -3.114618 -60.132698  1363  2083   \n",
       "417     45   343  20150515  20180122  -3.220614 -60.047220  1364  2084   \n",
       "200    177   482  20150920  20170823  -3.331416 -59.845588  1367  2085   \n",
       "\n",
       "              timestamp  \n",
       "152  20180209::21:21:25  \n",
       "90   20180209::21:21:26  \n",
       "292  20180209::21:21:25  \n",
       "417  20180209::21:21:25  \n",
       "200  20180209::21:21:25  "
      ]
     },
     "execution_count": 12,
     "metadata": {},
     "output_type": "execute_result"
    }
   ],
   "source": [
    "print(\"RESULTS ARE STORED IN DATAFRAME: \",c.dataframe().shape,c.dataframe(full=True).shape)\n",
    "c.dataframe().sample(5)"
   ]
  },
  {
   "cell_type": "code",
   "execution_count": 13,
   "metadata": {},
   "outputs": [
    {
     "name": "stdout",
     "output_type": "stream",
     "text": [
      "CLUSTER DATA FOR A CLUSTER\n"
     ]
    },
    {
     "data": {
      "text/plain": [
       "count                        56\n",
       "area                        508\n",
       "min_date               20150328\n",
       "max_date               20171010\n",
       "longitude              -3.22406\n",
       "latitude               -60.1241\n",
       "x                          1363\n",
       "y                          2084\n",
       "timestamp    20180209::21:21:26\n",
       "Name: 15, dtype: object"
      ]
     },
     "execution_count": 13,
     "metadata": {},
     "output_type": "execute_result"
    }
   ],
   "source": [
    "print(\"CLUSTER DATA FOR A CLUSTER\")\n",
    "c.cluster(15)"
   ]
  },
  {
   "cell_type": "code",
   "execution_count": 14,
   "metadata": {},
   "outputs": [
    {
     "name": "stdout",
     "output_type": "stream",
     "text": [
      "CONVEX HULL VERTICES FOR A CLUSTER\n"
     ]
    },
    {
     "data": {
      "text/plain": [
       "array([[253, 177],\n",
       "       [240, 195],\n",
       "       [238, 196],\n",
       "       [224, 181],\n",
       "       [231, 163],\n",
       "       [252, 176],\n",
       "       [253, 177]])"
      ]
     },
     "execution_count": 14,
     "metadata": {},
     "output_type": "execute_result"
    }
   ],
   "source": [
    "print(\"CONVEX HULL VERTICES FOR A CLUSTER\")\n",
    "c.convex_hull(15)"
   ]
  },
  {
   "cell_type": "code",
   "execution_count": 15,
   "metadata": {},
   "outputs": [
    {
     "name": "stdout",
     "output_type": "stream",
     "text": [
      "CLUSTER DATA FOR ALL CLUSTERS ON A TILE: (42, 9)\n"
     ]
    },
    {
     "data": {
      "text/html": [
       "<div>\n",
       "<style scoped>\n",
       "    .dataframe tbody tr th:only-of-type {\n",
       "        vertical-align: middle;\n",
       "    }\n",
       "\n",
       "    .dataframe tbody tr th {\n",
       "        vertical-align: top;\n",
       "    }\n",
       "\n",
       "    .dataframe thead th {\n",
       "        text-align: right;\n",
       "    }\n",
       "</style>\n",
       "<table border=\"1\" class=\"dataframe\">\n",
       "  <thead>\n",
       "    <tr style=\"text-align: right;\">\n",
       "      <th></th>\n",
       "      <th>count</th>\n",
       "      <th>area</th>\n",
       "      <th>min_date</th>\n",
       "      <th>max_date</th>\n",
       "      <th>longitude</th>\n",
       "      <th>latitude</th>\n",
       "      <th>x</th>\n",
       "      <th>y</th>\n",
       "      <th>timestamp</th>\n",
       "    </tr>\n",
       "  </thead>\n",
       "  <tbody>\n",
       "    <tr>\n",
       "      <th>1</th>\n",
       "      <td>39</td>\n",
       "      <td>205</td>\n",
       "      <td>20151006</td>\n",
       "      <td>20180106</td>\n",
       "      <td>-3.163832</td>\n",
       "      <td>-60.128217</td>\n",
       "      <td>1363</td>\n",
       "      <td>2084</td>\n",
       "      <td>20180209::21:21:26</td>\n",
       "    </tr>\n",
       "    <tr>\n",
       "      <th>10</th>\n",
       "      <td>25</td>\n",
       "      <td>71</td>\n",
       "      <td>20150616</td>\n",
       "      <td>20171010</td>\n",
       "      <td>-3.242294</td>\n",
       "      <td>-60.119600</td>\n",
       "      <td>1363</td>\n",
       "      <td>2084</td>\n",
       "      <td>20180209::21:21:26</td>\n",
       "    </tr>\n",
       "    <tr>\n",
       "      <th>11</th>\n",
       "      <td>103</td>\n",
       "      <td>698</td>\n",
       "      <td>20150718</td>\n",
       "      <td>20170924</td>\n",
       "      <td>-3.196869</td>\n",
       "      <td>-60.119600</td>\n",
       "      <td>1363</td>\n",
       "      <td>2084</td>\n",
       "      <td>20180209::21:21:26</td>\n",
       "    </tr>\n",
       "    <tr>\n",
       "      <th>12</th>\n",
       "      <td>248</td>\n",
       "      <td>1075</td>\n",
       "      <td>20150328</td>\n",
       "      <td>20180106</td>\n",
       "      <td>-3.179663</td>\n",
       "      <td>-60.120979</td>\n",
       "      <td>1363</td>\n",
       "      <td>2084</td>\n",
       "      <td>20180209::21:21:26</td>\n",
       "    </tr>\n",
       "    <tr>\n",
       "      <th>13</th>\n",
       "      <td>34</td>\n",
       "      <td>147</td>\n",
       "      <td>20150328</td>\n",
       "      <td>20171010</td>\n",
       "      <td>-3.209602</td>\n",
       "      <td>-60.121668</td>\n",
       "      <td>1363</td>\n",
       "      <td>2084</td>\n",
       "      <td>20180209::21:21:26</td>\n",
       "    </tr>\n",
       "  </tbody>\n",
       "</table>\n",
       "</div>"
      ],
      "text/plain": [
       "    count  area  min_date  max_date  longitude   latitude     x     y  \\\n",
       "1      39   205  20151006  20180106  -3.163832 -60.128217  1363  2084   \n",
       "10     25    71  20150616  20171010  -3.242294 -60.119600  1363  2084   \n",
       "11    103   698  20150718  20170924  -3.196869 -60.119600  1363  2084   \n",
       "12    248  1075  20150328  20180106  -3.179663 -60.120979  1363  2084   \n",
       "13     34   147  20150328  20171010  -3.209602 -60.121668  1363  2084   \n",
       "\n",
       "             timestamp  \n",
       "1   20180209::21:21:26  \n",
       "10  20180209::21:21:26  \n",
       "11  20180209::21:21:26  \n",
       "12  20180209::21:21:26  \n",
       "13  20180209::21:21:26  "
      ]
     },
     "execution_count": 15,
     "metadata": {},
     "output_type": "execute_result"
    }
   ],
   "source": [
    "print(\"CLUSTER DATA FOR ALL CLUSTERS ON A TILE:\",c.tile(15).shape)\n",
    "c.tile(15).head()"
   ]
  },
  {
   "cell_type": "markdown",
   "metadata": {
    "collapsed": true
   },
   "source": [
    "---\n",
    "# Viewer"
   ]
  },
  {
   "cell_type": "code",
   "execution_count": 17,
   "metadata": {},
   "outputs": [],
   "source": [
    "reload(us)\n",
    "reload(uv)\n",
    "from glad_clusters.utils.service import ClusterService\n",
    "from glad_clusters.utils.viewer import ClusterViewer"
   ]
  },
  {
   "cell_type": "code",
   "execution_count": 18,
   "metadata": {},
   "outputs": [
    {
     "name": "stdout",
     "output_type": "stream",
     "text": [
      "RELOADING FROM FILE (dev_manaus_2015-01-01:2018-02-09_1363:2081:1367:2085_12:5:25:25)\n",
      "CPU times: user 110 ms, sys: 13.5 ms, total: 124 ms\n",
      "Wall time: 2.01 s\n"
     ]
    },
    {
     "data": {
      "text/html": [
       "<div>\n",
       "<style scoped>\n",
       "    .dataframe tbody tr th:only-of-type {\n",
       "        vertical-align: middle;\n",
       "    }\n",
       "\n",
       "    .dataframe tbody tr th {\n",
       "        vertical-align: top;\n",
       "    }\n",
       "\n",
       "    .dataframe thead th {\n",
       "        text-align: right;\n",
       "    }\n",
       "</style>\n",
       "<table border=\"1\" class=\"dataframe\">\n",
       "  <thead>\n",
       "    <tr style=\"text-align: right;\">\n",
       "      <th></th>\n",
       "      <th>count</th>\n",
       "      <th>area</th>\n",
       "      <th>min_date</th>\n",
       "      <th>max_date</th>\n",
       "      <th>longitude</th>\n",
       "      <th>latitude</th>\n",
       "      <th>x</th>\n",
       "      <th>y</th>\n",
       "      <th>timestamp</th>\n",
       "    </tr>\n",
       "  </thead>\n",
       "  <tbody>\n",
       "    <tr>\n",
       "      <th>0</th>\n",
       "      <td>32</td>\n",
       "      <td>166</td>\n",
       "      <td>20150216</td>\n",
       "      <td>20180106</td>\n",
       "      <td>-2.944590</td>\n",
       "      <td>-60.203355</td>\n",
       "      <td>1363</td>\n",
       "      <td>2081</td>\n",
       "      <td>20180209::21:21:26</td>\n",
       "    </tr>\n",
       "    <tr>\n",
       "      <th>1</th>\n",
       "      <td>39</td>\n",
       "      <td>205</td>\n",
       "      <td>20151006</td>\n",
       "      <td>20180106</td>\n",
       "      <td>-3.163832</td>\n",
       "      <td>-60.128217</td>\n",
       "      <td>1363</td>\n",
       "      <td>2084</td>\n",
       "      <td>20180209::21:21:26</td>\n",
       "    </tr>\n",
       "    <tr>\n",
       "      <th>2</th>\n",
       "      <td>26</td>\n",
       "      <td>172</td>\n",
       "      <td>20170823</td>\n",
       "      <td>20171119</td>\n",
       "      <td>-2.946655</td>\n",
       "      <td>-59.816981</td>\n",
       "      <td>1367</td>\n",
       "      <td>2081</td>\n",
       "      <td>20180209::21:21:26</td>\n",
       "    </tr>\n",
       "    <tr>\n",
       "      <th>3</th>\n",
       "      <td>28</td>\n",
       "      <td>45</td>\n",
       "      <td>20150625</td>\n",
       "      <td>20171010</td>\n",
       "      <td>-2.905005</td>\n",
       "      <td>-59.813879</td>\n",
       "      <td>1367</td>\n",
       "      <td>2081</td>\n",
       "      <td>20180209::21:21:26</td>\n",
       "    </tr>\n",
       "    <tr>\n",
       "      <th>4</th>\n",
       "      <td>31</td>\n",
       "      <td>68</td>\n",
       "      <td>20171103</td>\n",
       "      <td>20180106</td>\n",
       "      <td>-2.951130</td>\n",
       "      <td>-59.812155</td>\n",
       "      <td>1367</td>\n",
       "      <td>2081</td>\n",
       "      <td>20180209::21:21:26</td>\n",
       "    </tr>\n",
       "  </tbody>\n",
       "</table>\n",
       "</div>"
      ],
      "text/plain": [
       "   count  area  min_date  max_date  longitude   latitude     x     y  \\\n",
       "0     32   166  20150216  20180106  -2.944590 -60.203355  1363  2081   \n",
       "1     39   205  20151006  20180106  -3.163832 -60.128217  1363  2084   \n",
       "2     26   172  20170823  20171119  -2.946655 -59.816981  1367  2081   \n",
       "3     28    45  20150625  20171010  -2.905005 -59.813879  1367  2081   \n",
       "4     31    68  20171103  20180106  -2.951130 -59.812155  1367  2081   \n",
       "\n",
       "            timestamp  \n",
       "0  20180209::21:21:26  \n",
       "1  20180209::21:21:26  \n",
       "2  20180209::21:21:26  \n",
       "3  20180209::21:21:26  \n",
       "4  20180209::21:21:26  "
      ]
     },
     "execution_count": 18,
     "metadata": {},
     "output_type": "execute_result"
    }
   ],
   "source": [
    "print(\"RELOADING FROM FILE ({})\".format(filename))\n",
    "%time c=ClusterService.read_csv(filename)\n",
    "c.dataframe().head()"
   ]
  },
  {
   "cell_type": "code",
   "execution_count": 19,
   "metadata": {},
   "outputs": [
    {
     "name": "stdout",
     "output_type": "stream",
     "text": [
      "RELOADING FROM INSTANCE\n",
      "CPU times: user 76 ms, sys: 9.69 ms, total: 85.7 ms\n",
      "Wall time: 830 ms\n"
     ]
    },
    {
     "data": {
      "text/html": [
       "<div>\n",
       "<style scoped>\n",
       "    .dataframe tbody tr th:only-of-type {\n",
       "        vertical-align: middle;\n",
       "    }\n",
       "\n",
       "    .dataframe tbody tr th {\n",
       "        vertical-align: top;\n",
       "    }\n",
       "\n",
       "    .dataframe thead th {\n",
       "        text-align: right;\n",
       "    }\n",
       "</style>\n",
       "<table border=\"1\" class=\"dataframe\">\n",
       "  <thead>\n",
       "    <tr style=\"text-align: right;\">\n",
       "      <th></th>\n",
       "      <th>count</th>\n",
       "      <th>area</th>\n",
       "      <th>min_date</th>\n",
       "      <th>max_date</th>\n",
       "      <th>longitude</th>\n",
       "      <th>latitude</th>\n",
       "      <th>x</th>\n",
       "      <th>y</th>\n",
       "      <th>timestamp</th>\n",
       "    </tr>\n",
       "  </thead>\n",
       "  <tbody>\n",
       "    <tr>\n",
       "      <th>0</th>\n",
       "      <td>32</td>\n",
       "      <td>166</td>\n",
       "      <td>20150216</td>\n",
       "      <td>20180106</td>\n",
       "      <td>-2.944590</td>\n",
       "      <td>-60.203355</td>\n",
       "      <td>1363</td>\n",
       "      <td>2081</td>\n",
       "      <td>20180209::21:21:26</td>\n",
       "    </tr>\n",
       "    <tr>\n",
       "      <th>1</th>\n",
       "      <td>39</td>\n",
       "      <td>205</td>\n",
       "      <td>20151006</td>\n",
       "      <td>20180106</td>\n",
       "      <td>-3.163832</td>\n",
       "      <td>-60.128217</td>\n",
       "      <td>1363</td>\n",
       "      <td>2084</td>\n",
       "      <td>20180209::21:21:26</td>\n",
       "    </tr>\n",
       "    <tr>\n",
       "      <th>2</th>\n",
       "      <td>26</td>\n",
       "      <td>172</td>\n",
       "      <td>20170823</td>\n",
       "      <td>20171119</td>\n",
       "      <td>-2.946655</td>\n",
       "      <td>-59.816981</td>\n",
       "      <td>1367</td>\n",
       "      <td>2081</td>\n",
       "      <td>20180209::21:21:26</td>\n",
       "    </tr>\n",
       "    <tr>\n",
       "      <th>3</th>\n",
       "      <td>28</td>\n",
       "      <td>45</td>\n",
       "      <td>20150625</td>\n",
       "      <td>20171010</td>\n",
       "      <td>-2.905005</td>\n",
       "      <td>-59.813879</td>\n",
       "      <td>1367</td>\n",
       "      <td>2081</td>\n",
       "      <td>20180209::21:21:26</td>\n",
       "    </tr>\n",
       "    <tr>\n",
       "      <th>4</th>\n",
       "      <td>31</td>\n",
       "      <td>68</td>\n",
       "      <td>20171103</td>\n",
       "      <td>20180106</td>\n",
       "      <td>-2.951130</td>\n",
       "      <td>-59.812155</td>\n",
       "      <td>1367</td>\n",
       "      <td>2081</td>\n",
       "      <td>20180209::21:21:26</td>\n",
       "    </tr>\n",
       "  </tbody>\n",
       "</table>\n",
       "</div>"
      ],
      "text/plain": [
       "   count  area  min_date  max_date  longitude   latitude     x     y  \\\n",
       "0     32   166  20150216  20180106  -2.944590 -60.203355  1363  2081   \n",
       "1     39   205  20151006  20180106  -3.163832 -60.128217  1363  2084   \n",
       "2     26   172  20170823  20171119  -2.946655 -59.816981  1367  2081   \n",
       "3     28    45  20150625  20171010  -2.905005 -59.813879  1367  2081   \n",
       "4     31    68  20171103  20180106  -2.951130 -59.812155  1367  2081   \n",
       "\n",
       "            timestamp  \n",
       "0  20180209::21:21:26  \n",
       "1  20180209::21:21:26  \n",
       "2  20180209::21:21:26  \n",
       "3  20180209::21:21:26  \n",
       "4  20180209::21:21:26  "
      ]
     },
     "execution_count": 19,
     "metadata": {},
     "output_type": "execute_result"
    }
   ],
   "source": [
    "print(\"RELOADING FROM INSTANCE\")\n",
    "c=ClusterService(bounds=bounds_manaus)\n",
    "%time c.read(\"dev_manaus\")\n",
    "c.dataframe().head()"
   ]
  },
  {
   "cell_type": "code",
   "execution_count": 20,
   "metadata": {
    "collapsed": true
   },
   "outputs": [],
   "source": [
    "view=ClusterViewer(c)"
   ]
  },
  {
   "cell_type": "code",
   "execution_count": 21,
   "metadata": {},
   "outputs": [
    {
     "name": "stdout",
     "output_type": "stream",
     "text": [
      "VIEW TILE:\n"
     ]
    },
    {
     "name": "stderr",
     "output_type": "stream",
     "text": [
      "/Users/brook/anaconda/lib/python2.7/site-packages/skimage/io/_plugins/matplotlib_plugin.py:51: FutureWarning: Conversion of the second argument of issubdtype from `float` to `np.floating` is deprecated. In future, it will be treated as `np.float64 == np.dtype(float).type`.\n",
      "  out_of_range_float = (np.issubdtype(image.dtype, np.float) and\n"
     ]
    },
    {
     "data": {
      "image/png": "[encoded data removed]",
      "text/plain": [
       "<matplotlib.figure.Figure at 0x1130824d0>"
      ]
     },
     "metadata": {},
     "output_type": "display_data"
    }
   ],
   "source": [
    "print(\"VIEW TILE:\")\n",
    "view.tile(36)"
   ]
  },
  {
   "cell_type": "code",
   "execution_count": 22,
   "metadata": {},
   "outputs": [
    {
     "name": "stdout",
     "output_type": "stream",
     "text": [
      "VIEW INPUT:\n",
      "NB CLUSTERS: 20\n",
      "TOTAL COUNT: 1455\n",
      "TOTAL AREA: 7996\n",
      "DATES: 2015-03-28 to 2018-01-30\n"
     ]
    },
    {
     "data": {
      "image/png": "[encoded data removed]",
      "text/plain": [
       "<matplotlib.figure.Figure at 0x113feec50>"
      ]
     },
     "metadata": {},
     "output_type": "display_data"
    }
   ],
   "source": [
    "print(\"VIEW INPUT:\")\n",
    "view.input(36)"
   ]
  },
  {
   "cell_type": "code",
   "execution_count": 23,
   "metadata": {},
   "outputs": [
    {
     "name": "stdout",
     "output_type": "stream",
     "text": [
      "VIEW INPUT (without centroids):\n",
      "NB CLUSTERS: 20\n",
      "TOTAL COUNT: 1455\n",
      "TOTAL AREA: 7996\n",
      "DATES: 2015-03-28 to 2018-01-30\n"
     ]
    },
    {
     "name": "stderr",
     "output_type": "stream",
     "text": [
      "/Users/brook/anaconda/lib/python2.7/site-packages/skimage/io/_plugins/matplotlib_plugin.py:77: UserWarning: Float image out of standard range; displaying image with stretched contrast.\n",
      "  warn(\"Float image out of standard range; displaying \"\n"
     ]
    },
    {
     "data": {
      "image/png": "[encoded data removed]",
      "text/plain": [
       "<matplotlib.figure.Figure at 0x1132ba110>"
      ]
     },
     "metadata": {},
     "output_type": "display_data"
    }
   ],
   "source": [
    "print(\"VIEW INPUT (without centroids):\")\n",
    "view.input(36,centroids=False)"
   ]
  },
  {
   "cell_type": "code",
   "execution_count": 24,
   "metadata": {},
   "outputs": [
    {
     "name": "stdout",
     "output_type": "stream",
     "text": [
      "VIEW SINGLE CLUSTER:\n",
      "COUNT: 38\n",
      "AREA: 333\n",
      "POINT: 119,239\n",
      "ZXY: 12/1366/2081\n",
      "DATES: 2015-03-28 to 2017-10-11\n"
     ]
    },
    {
     "data": {
      "image/png": "[encoded data removed]",
      "text/plain": [
       "<matplotlib.figure.Figure at 0x11482a7d0>"
      ]
     },
     "metadata": {},
     "output_type": "display_data"
    }
   ],
   "source": [
    "print(\"VIEW SINGLE CLUSTER:\")\n",
    "view.cluster(158)"
   ]
  },
  {
   "cell_type": "code",
   "execution_count": 25,
   "metadata": {},
   "outputs": [
    {
     "name": "stdout",
     "output_type": "stream",
     "text": [
      "VIEW SINGLE CLUSTER (with convex hull):\n",
      "COUNT: 38\n",
      "AREA: 333\n",
      "POINT: 119,239\n",
      "ZXY: 12/1366/2081\n",
      "DATES: 2015-03-28 to 2017-10-11\n"
     ]
    },
    {
     "data": {
      "image/png": "[encoded data removed]",
      "text/plain": [
       "<matplotlib.figure.Figure at 0x114a31150>"
      ]
     },
     "metadata": {},
     "output_type": "display_data"
    }
   ],
   "source": [
    "print(\"VIEW SINGLE CLUSTER (with convex hull):\")\n",
    "view.cluster(158,convex_hull=True)"
   ]
  },
  {
   "cell_type": "code",
   "execution_count": 26,
   "metadata": {},
   "outputs": [
    {
     "name": "stdout",
     "output_type": "stream",
     "text": [
      "VIEW SINGLE CLUSTER (without centriods):\n",
      "COUNT: 28\n",
      "AREA: 192\n",
      "POINT: 50,212\n",
      "ZXY: 12/1366/2082\n",
      "DATES: 2015-09-12 to 2017-10-03\n"
     ]
    },
    {
     "data": {
      "image/png": "[encoded data removed]",
      "text/plain": [
       "<matplotlib.figure.Figure at 0x1144ebc10>"
      ]
     },
     "metadata": {},
     "output_type": "display_data"
    }
   ],
   "source": [
    "print(\"VIEW SINGLE CLUSTER (without centriods):\")\n",
    "view.cluster(123,centroids=False)"
   ]
  },
  {
   "cell_type": "code",
   "execution_count": 27,
   "metadata": {},
   "outputs": [
    {
     "name": "stdout",
     "output_type": "stream",
     "text": [
      "VIEW CLUSTERS BY LIST (with convex_hull)\n"
     ]
    },
    {
     "data": {
      "image/png": "[encoded data removed]",
      "text/plain": [
       "<matplotlib.figure.Figure at 0x1136dca90>"
      ]
     },
     "metadata": {},
     "output_type": "display_data"
    }
   ],
   "source": [
    "print(\"VIEW CLUSTERS BY LIST (with convex_hull)\")\n",
    "view.clusters(row_ids=[158,123,36],convex_hull=True)"
   ]
  },
  {
   "cell_type": "code",
   "execution_count": 28,
   "metadata": {},
   "outputs": [
    {
     "name": "stdout",
     "output_type": "stream",
     "text": [
      "VIEW CLUSTERS BY START,END-INDICIES (without centroids):\n"
     ]
    },
    {
     "data": {
      "image/png": "[encoded data removed]",
      "text/plain": [
       "<matplotlib.figure.Figure at 0x114995c50>"
      ]
     },
     "metadata": {},
     "output_type": "display_data"
    }
   ],
   "source": [
    "print(\"VIEW CLUSTERS BY START,END-INDICIES (without centroids):\")\n",
    "view.clusters(start=123,end=127,centroids=False)"
   ]
  },
  {
   "cell_type": "markdown",
   "metadata": {},
   "source": [
    "---\n",
    "## DOCS"
   ]
  },
  {
   "cell_type": "markdown",
   "metadata": {},
   "source": [
    "---\n",
    "#### ClusterService"
   ]
  },
  {
   "cell_type": "code",
   "execution_count": 29,
   "metadata": {
    "scrolled": false
   },
   "outputs": [
    {
     "name": "stdout",
     "output_type": "stream",
     "text": [
      "Help on class ClusterService in module glad_clusters.utils.service:\n",
      "\n",
      "class ClusterService(__builtin__.object)\n",
      " |  ClusterService:\n",
      " |  \n",
      " |  Creates service for running cluster algorithm and/or viewing \n",
      " |  the resulting cluster data.\n",
      " |  \n",
      " |  Args:\n",
      " |      Use one of the following to select tiles to run:\n",
      " |  \n",
      " |          bounds<list>: tiles-lonlat bounding box\n",
      " |          tile_bounds<list>: tiles-xy bounding box\n",
      " |          lat,lon<int,int>: latitude,longitude used to run a single tile\n",
      " |          x,y<int,int>: tile-xy used to run a single tile\n",
      " |  \n",
      " |      Other run arguments:\n",
      " |  \n",
      " |          start_date<str>: 'yyyy-mm-dd'\n",
      " |          end_date<str>: 'yyyy-mm-dd'\n",
      " |          min_count<int>: minimum number of alerts in a cluster\n",
      " |          width<int>: gaussian width in cluster algorithm\n",
      " |          iterations<int>: number of times to iterate when finding clusters\n",
      " |          z<int>: tile-zoom\n",
      " |          bucket<str>: aws-bucket used for saving csv file\n",
      " |  \n",
      " |      Preloaded dataframe args:\n",
      " |  \n",
      " |          NOTE: Consider using ClusterService.read() rather than loading the\n",
      " |          dataframes directly.\n",
      " |  \n",
      " |          dataframe<pandas.dataframe>,\n",
      " |          errors_dataframe<pandas.dataframe>\n",
      " |  \n",
      " |  Methods defined here:\n",
      " |  \n",
      " |  __init__(self, bounds=None, tile_bounds=None, lat=None, lon=None, x=None, y=None, start_date='2015-01-01', end_date='2018-02-09', min_count=25, width=5, iterations=25, z=12, bucket='gfw-clusters-test', dataframe=None, errors_dataframe=None)\n",
      " |      #  PUBLC METHODS\n",
      " |  \n",
      " |  bounding_box(self)\n",
      " |      get lat/lon bounding box\n",
      " |  \n",
      " |  bounds(self)\n",
      " |      get lat/lon-bounds\n",
      " |  \n",
      " |  cluster(self, row_id=None, lat=None, lon=None, z=None, x=None, y=None, i=None, j=None, timestamp=None, ascending=False, full=False)\n",
      " |      fetch data for single cluster\n",
      " |      \n",
      " |      Method for selecting row of dataframe\n",
      " |      \n",
      " |      Args:\n",
      " |      \n",
      " |          Use one of the following to select the row:\n",
      " |      \n",
      " |              row_id<int>: dataframe index for cluster\n",
      " |              lat,lon<floats>: latitude,longitude for cluster\n",
      " |              z,x,y,i,j<ints>: tile/pixel location for cluster\n",
      " |      \n",
      " |              (optional - really consider using row_id):\n",
      " |                  timestamp<str>: timestamp for cluster\n",
      " |      \n",
      " |          Other arguments:\n",
      " |      \n",
      " |              ascending<bool>: \n",
      " |                  if true sort by ascending time and grab first matching row\n",
      " |              full:\n",
      " |                  if false return only VIEW_COLUMNS. \n",
      " |                  else include all columns (including input/alerts data)\n",
      " |  \n",
      " |  convex_hull(self, row_id=None, alerts=None)\n",
      " |      get convex_hull vertices for cluster\n",
      " |      \n",
      " |      Args:\n",
      " |          row_id<int>: if not alerts, dataframe row index for cluster\n",
      " |          alerts<array>: alerts for cluster\n",
      " |  \n",
      " |  dataframe(self, full=False)\n",
      " |      return dataframe of clusters data\n",
      " |      \n",
      " |      Args:\n",
      " |          full<bool[False]>:\n",
      " |              if true return full dataframe\n",
      " |              otherwise only return VIEW_COLUMNS\n",
      " |  \n",
      " |  errors(self)\n",
      " |      return error dataframe\n",
      " |  \n",
      " |  name(self, ident='clusters')\n",
      " |      construct service name. use as default filename\n",
      " |  \n",
      " |  read(self, ident='clusters', local=False, region='us-west-2', bucket='gfw-clusters-test', url_base=None, errors=True)\n",
      " |  \n",
      " |  request_size(self)\n",
      " |      get number of tiles in request\n",
      " |  \n",
      " |  run(self, max_processes=200, force=False)\n",
      " |      find clusters on tiles\n",
      " |      \n",
      " |      Args:\n",
      " |          max_processes<int>: number of processes used in launching jobs\n",
      " |          force<bool[False]>: if true run even if dataframe is loaded\n",
      " |  \n",
      " |  save(self, ident='clusters', filename=None, local=False, bucket=None, errors=True)\n",
      " |      write responses to csv\n",
      " |      \n",
      " |      Args:\n",
      " |      \n",
      " |          Use one of the following:\n",
      " |      \n",
      " |              filename<str>: name/path of csv without '.csv' extension \n",
      " |              ident<str[DEFAULT_CSV_IDENT]>: prefix to default_name \n",
      " |          \n",
      " |          Other arguments:\n",
      " |          \n",
      " |              local<bool[False]>: if true write to local file else write to s3 file\n",
      " |              bucket<str>: aws-bucket required if not local and not self.bucket\n",
      " |              errors<bool[True]>: if true save errors-csv\n",
      " |  \n",
      " |  summary(self, dataframe=None)\n",
      " |      return nb_clusters,total-count/area,min_date,max_date\n",
      " |      \n",
      " |      Args:\n",
      " |          dataframe<dataframe>: if none use self.dataframe()\n",
      " |  \n",
      " |  tile(self, row_id=None, z=12, x=None, y=None, full=False)\n",
      " |      return rows matching z,x,y\n",
      " |      \n",
      " |      Args:\n",
      " |          row_id<int>: row_id to get z/x/y from\n",
      " |          z,x,y<int,int,int>: if not row_id specify z/x/y\n",
      " |          full<bool[False]>:\n",
      " |              if true return full dataframe\n",
      " |              otherwise only return VIEW_COLUMNS\n",
      " |  \n",
      " |  ----------------------------------------------------------------------\n",
      " |  Static methods defined here:\n",
      " |  \n",
      " |  get_dataframes(filename, local=False, region='us-west-2', bucket='gfw-clusters-test', url_base=None, errors=True)\n",
      " |      get dataframes from csv\n",
      " |      \n",
      " |      Args:\n",
      " |          filename<str>: name/path of csv without '.csv' extension \n",
      " |          local<bool[False]>: if true read from local file else read from s3 file\n",
      " |          region<str>: aws-region required if not local and not url_base\n",
      " |          bucket<str>: aws-bucket required if not local\n",
      " |          url_base<str>: aws-url-root for bucket\n",
      " |          errors<bool[True]>: if true include errors-csv\n",
      " |  \n",
      " |  int_to_str_dates(sdate, edate)\n",
      " |      convert date ints to date strs\n",
      " |  \n",
      " |  read_csv(filename, local=False, region='us-west-2', bucket='gfw-clusters-test', url_base=None, errors=True)\n",
      " |      init service from csv\n",
      " |      \n",
      " |      Args:\n",
      " |          filename<str>: name/path of csv without '.csv' extension \n",
      " |          local<bool[False]>: if true read from local file else read from s3 file\n",
      " |          region<str>: aws-region required if not local and not url_base\n",
      " |          bucket<str>: aws-bucket required if not local\n",
      " |          url_base<str>: aws-url-root for bucket\n",
      " |          errors<bool[True]>: if true include errors-csv\n",
      " |  \n",
      " |  run_params(dataframe)\n",
      " |      return run params based on dataframe\n",
      " |  \n",
      " |  ----------------------------------------------------------------------\n",
      " |  Data descriptors defined here:\n",
      " |  \n",
      " |  __dict__\n",
      " |      dictionary for instance variables (if defined)\n",
      " |  \n",
      " |  __weakref__\n",
      " |      list of weak references to the object (if defined)\n",
      "\n"
     ]
    }
   ],
   "source": [
    "help(ClusterService)"
   ]
  },
  {
   "cell_type": "markdown",
   "metadata": {},
   "source": [
    "---\n",
    "#### ClusterViewer"
   ]
  },
  {
   "cell_type": "code",
   "execution_count": 30,
   "metadata": {},
   "outputs": [
    {
     "name": "stdout",
     "output_type": "stream",
     "text": [
      "Help on class ClusterViewer in module glad_clusters.utils.viewer:\n",
      "\n",
      "class ClusterViewer(__builtin__.object)\n",
      " |  ClusterViewer:\n",
      " |          \n",
      " |  Easily plot data from ClusterService.\n",
      " |  \n",
      " |  Args:\n",
      " |      service<cluster_service>: ClusterService instance\n",
      " |      url_base<str>: aws-bucket url for glad-tiles (defaults to environ['url'])\n",
      " |  \n",
      " |  Methods defined here:\n",
      " |  \n",
      " |  __init__(self, service, url_base=None)\n",
      " |      # PUBLIC METHODS\n",
      " |  \n",
      " |  cluster(self, row_id, centroids=True, convex_hull=False, info=True)\n",
      " |      show the cluster\n",
      " |      \n",
      " |      Args:\n",
      " |          row_id<int>: row id for a cluster on the tile of interest\n",
      " |          centroids<bool[True]>: if true plot the cluster centroids\n",
      " |          convex_hull<bool[True]>: if true shade the convex_hull\n",
      " |          info<bool[True]>: if true print the cluster data\n",
      " |  \n",
      " |  clusters(self, start=None, end=None, row_ids=[], centroids=True, convex_hull=False)\n",
      " |      show clusters\n",
      " |      \n",
      " |      Use one of the following:\n",
      " |          start,end<int,int>: the [start,end) range of rows to show\n",
      " |          row_ids<list>: list of row ids to show\n",
      " |      \n",
      " |      Other arguments:\n",
      " |          centroids<bool[True]>: if true plot the cluster centroids\n",
      " |          convex_hull<bool[True]>: if true shade the convex_hull\n",
      " |  \n",
      " |  input(self, row_id, centroids=True, info=True)\n",
      " |      show the GLAD tile after filtering by date.\n",
      " |      \n",
      " |      Args:\n",
      " |          row_id<int>: row id for a cluster on the tile of interest\n",
      " |          centroids<bool[True]>: if true plot the cluster centroids\n",
      " |          info<bool[True]>: if true print the clusters data\n",
      " |  \n",
      " |  tile(self, row_id=None, error=False, x=None, y=None, z=None, show=True, array=False)\n",
      " |      load tile directly from aws-bucket\n",
      " |      \n",
      " |      Note: This is the full GLAD tile and has not been filtered by dates.\n",
      " |      \n",
      " |      Args:\n",
      " |      \n",
      " |          Use one of the following to identify the tile:\n",
      " |      \n",
      " |              row_id<int>: row id for a cluster on the tile of interest\n",
      " |              z,x,y<int,int,int>: the z/x/y of the tile\n",
      " |      \n",
      " |          Other arguments:\n",
      " |      \n",
      " |              show<bool[True]>: if true plot the image\n",
      " |              array<bool[False]>: if true return the array\n",
      " |  \n",
      " |  ----------------------------------------------------------------------\n",
      " |  Static methods defined here:\n",
      " |  \n",
      " |  show(im=None, i=None, j=None, ax=None, alpha=1)\n",
      " |  \n",
      " |  ----------------------------------------------------------------------\n",
      " |  Data descriptors defined here:\n",
      " |  \n",
      " |  __dict__\n",
      " |      dictionary for instance variables (if defined)\n",
      " |  \n",
      " |  __weakref__\n",
      " |      list of weak references to the object (if defined)\n",
      "\n"
     ]
    }
   ],
   "source": [
    "help(ClusterViewer)"
   ]
  },
  {
   "cell_type": "code",
   "execution_count": null,
   "metadata": {
    "collapsed": true
   },
   "outputs": [],
   "source": []
  },
  {
   "cell_type": "code",
   "execution_count": null,
   "metadata": {
    "collapsed": true
   },
   "outputs": [],
   "source": []
  }
 ],
 "metadata": {
  "kernelspec": {
   "display_name": "Python 2",
   "language": "python",
   "name": "python2"
  },
  "language_info": {
   "codemirror_mode": {
    "name": "ipython",
    "version": 2
   },
   "file_extension": ".py",
   "mimetype": "text/x-python",
   "name": "python",
   "nbconvert_exporter": "python",
   "pygments_lexer": "ipython2",
   "version": "2.7.13"
  }
 },
 "nbformat": 4,
 "nbformat_minor": 2
}
