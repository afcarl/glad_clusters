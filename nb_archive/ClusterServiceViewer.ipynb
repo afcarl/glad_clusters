{
 "cells": [
  {
   "cell_type": "code",
   "execution_count": 1,
   "metadata": {
    "collapsed": true
   },
   "outputs": [],
   "source": [
    "from __future__ import print_function\n",
    "import os\n",
    "import sys\n",
    "sys.path.append('../')\n",
    "%matplotlib inline"
   ]
  },
  {
   "cell_type": "code",
   "execution_count": 2,
   "metadata": {},
   "outputs": [],
   "source": [
    "import local_env\n",
    "import utils.service as us\n",
    "import utils.viewer as uv\n",
    "reload(us)\n",
    "reload(uv)\n",
    "from utils.service import ClusterService\n",
    "from utils.viewer import ClusterViewer"
   ]
  },
  {
   "cell_type": "markdown",
   "metadata": {},
   "source": [
    "---\n",
    "#### ENV VARS"
   ]
  },
  {
   "cell_type": "code",
   "execution_count": 3,
   "metadata": {},
   "outputs": [
    {
     "data": {
      "text/plain": [
       "True"
      ]
     },
     "execution_count": 3,
     "metadata": {},
     "output_type": "execute_result"
    }
   ],
   "source": [
    "None==os.environ.get('csv_bucket')"
   ]
  },
  {
   "cell_type": "code",
   "execution_count": 4,
   "metadata": {},
   "outputs": [
    {
     "name": "stdout",
     "output_type": "stream",
     "text": [
      "\n",
      "EXPORTING dev ENV:\n",
      "\twidth: 5\n",
      "\titerations: 25\n",
      "\tcsv_bucket: gfw-clusters-test\n",
      "\turl: http://wri-tiles.s3.amazonaws.com/glad_prod/tiles\n",
      "\tmin_count: 25\n",
      "\tbucket: wri-tiles\n",
      "\tzoom: 12\n",
      "\n",
      "\n"
     ]
    }
   ],
   "source": [
    "local_env.export()"
   ]
  },
  {
   "cell_type": "code",
   "execution_count": 5,
   "metadata": {},
   "outputs": [
    {
     "data": {
      "text/plain": [
       "'gfw-clusters-test'"
      ]
     },
     "execution_count": 5,
     "metadata": {},
     "output_type": "execute_result"
    }
   ],
   "source": [
    "os.environ.get('csv_bucket')"
   ]
  },
  {
   "cell_type": "markdown",
   "metadata": {},
   "source": [
    "---\n",
    "### ClusterService"
   ]
  },
  {
   "cell_type": "code",
   "execution_count": 6,
   "metadata": {
    "collapsed": true
   },
   "outputs": [],
   "source": [
    "bounds_manaus=[\n",
    "            [\n",
    "              -60.16113281250001,\n",
    "              -3.2940822283128046\n",
    "            ],\n",
    "            [\n",
    "              -59.83154296874999,\n",
    "              -3.2940822283128046\n",
    "            ],\n",
    "            [\n",
    "              -59.83154296874999,\n",
    "              -2.964984369333955\n",
    "            ],\n",
    "            [\n",
    "              -60.16113281250001,\n",
    "              -2.964984369333955\n",
    "            ],\n",
    "            [\n",
    "              -60.16113281250001,\n",
    "              -3.2940822283128046\n",
    "            ]\n",
    "          ]"
   ]
  },
  {
   "cell_type": "code",
   "execution_count": 7,
   "metadata": {},
   "outputs": [
    {
     "data": {
      "text/plain": [
       "25"
      ]
     },
     "execution_count": 7,
     "metadata": {},
     "output_type": "execute_result"
    }
   ],
   "source": [
    "c=ClusterService(bounds=bounds_manaus)\n",
    "c.request_size()"
   ]
  },
  {
   "cell_type": "code",
   "execution_count": 8,
   "metadata": {},
   "outputs": [
    {
     "name": "stdout",
     "output_type": "stream",
     "text": [
      "CPU times: user 933 ms, sys: 184 ms, total: 1.12 s\n",
      "Wall time: 2min 49s\n",
      "NB ERRORS: 0\n",
      "NB CLUSTERS: 434\n"
     ]
    }
   ],
   "source": [
    "%time c.run()\n",
    "print('NB ERRORS:',c.errors().shape[0])\n",
    "print('NB CLUSTERS:',c.dataframe().shape[0])"
   ]
  },
  {
   "cell_type": "code",
   "execution_count": 9,
   "metadata": {},
   "outputs": [
    {
     "name": "stdout",
     "output_type": "stream",
     "text": [
      "FILE WILL BE SAVED TO: clusters_2015-01-01:2025-01-01_1363:2081:1367:2085_12:5:25:25\n",
      "CPU times: user 177 ms, sys: 20.1 ms, total: 197 ms\n",
      "Wall time: 5.77 s\n"
     ]
    }
   ],
   "source": [
    "filename=c.name()\n",
    "print('FILE WILL BE SAVED TO: {}'.format(filename))\n",
    "%time c.save()"
   ]
  },
  {
   "cell_type": "code",
   "execution_count": 10,
   "metadata": {},
   "outputs": [
    {
     "name": "stdout",
     "output_type": "stream",
     "text": [
      "RESULTS ARE STORED IN DATAFRAME:  (434, 9) (434, 15)\n"
     ]
    },
    {
     "data": {
      "text/html": [
       "<div>\n",
       "<style scoped>\n",
       "    .dataframe tbody tr th:only-of-type {\n",
       "        vertical-align: middle;\n",
       "    }\n",
       "\n",
       "    .dataframe tbody tr th {\n",
       "        vertical-align: top;\n",
       "    }\n",
       "\n",
       "    .dataframe thead th {\n",
       "        text-align: right;\n",
       "    }\n",
       "</style>\n",
       "<table border=\"1\" class=\"dataframe\">\n",
       "  <thead>\n",
       "    <tr style=\"text-align: right;\">\n",
       "      <th></th>\n",
       "      <th>count</th>\n",
       "      <th>area</th>\n",
       "      <th>min_date</th>\n",
       "      <th>max_date</th>\n",
       "      <th>longitude</th>\n",
       "      <th>latitude</th>\n",
       "      <th>x</th>\n",
       "      <th>y</th>\n",
       "      <th>timestamp</th>\n",
       "    </tr>\n",
       "  </thead>\n",
       "  <tbody>\n",
       "    <tr>\n",
       "      <th>329</th>\n",
       "      <td>38</td>\n",
       "      <td>172</td>\n",
       "      <td>20150702</td>\n",
       "      <td>20180122</td>\n",
       "      <td>-3.229217</td>\n",
       "      <td>-60.049977</td>\n",
       "      <td>1364</td>\n",
       "      <td>2084</td>\n",
       "      <td>20180208::00:05:41</td>\n",
       "    </tr>\n",
       "    <tr>\n",
       "      <th>417</th>\n",
       "      <td>64</td>\n",
       "      <td>290</td>\n",
       "      <td>20170604</td>\n",
       "      <td>20171010</td>\n",
       "      <td>-3.045784</td>\n",
       "      <td>-60.102022</td>\n",
       "      <td>1364</td>\n",
       "      <td>2082</td>\n",
       "      <td>20180208::00:05:41</td>\n",
       "    </tr>\n",
       "    <tr>\n",
       "      <th>308</th>\n",
       "      <td>42</td>\n",
       "      <td>207</td>\n",
       "      <td>20160610</td>\n",
       "      <td>20170823</td>\n",
       "      <td>-3.076416</td>\n",
       "      <td>-60.120979</td>\n",
       "      <td>1363</td>\n",
       "      <td>2083</td>\n",
       "      <td>20180208::00:05:41</td>\n",
       "    </tr>\n",
       "    <tr>\n",
       "      <th>368</th>\n",
       "      <td>56</td>\n",
       "      <td>193</td>\n",
       "      <td>20170823</td>\n",
       "      <td>20170823</td>\n",
       "      <td>-2.961456</td>\n",
       "      <td>-60.027574</td>\n",
       "      <td>1365</td>\n",
       "      <td>2081</td>\n",
       "      <td>20180208::00:05:41</td>\n",
       "    </tr>\n",
       "    <tr>\n",
       "      <th>154</th>\n",
       "      <td>47</td>\n",
       "      <td>166</td>\n",
       "      <td>20151023</td>\n",
       "      <td>20170924</td>\n",
       "      <td>-3.320406</td>\n",
       "      <td>-59.793199</td>\n",
       "      <td>1367</td>\n",
       "      <td>2085</td>\n",
       "      <td>20180208::00:05:41</td>\n",
       "    </tr>\n",
       "  </tbody>\n",
       "</table>\n",
       "</div>"
      ],
      "text/plain": [
       "     count  area  min_date  max_date  longitude   latitude     x     y  \\\n",
       "329     38   172  20150702  20180122  -3.229217 -60.049977  1364  2084   \n",
       "417     64   290  20170604  20171010  -3.045784 -60.102022  1364  2082   \n",
       "308     42   207  20160610  20170823  -3.076416 -60.120979  1363  2083   \n",
       "368     56   193  20170823  20170823  -2.961456 -60.027574  1365  2081   \n",
       "154     47   166  20151023  20170924  -3.320406 -59.793199  1367  2085   \n",
       "\n",
       "              timestamp  \n",
       "329  20180208::00:05:41  \n",
       "417  20180208::00:05:41  \n",
       "308  20180208::00:05:41  \n",
       "368  20180208::00:05:41  \n",
       "154  20180208::00:05:41  "
      ]
     },
     "execution_count": 10,
     "metadata": {},
     "output_type": "execute_result"
    }
   ],
   "source": [
    "print(\"RESULTS ARE STORED IN DATAFRAME: \",c.dataframe().shape,c.dataframe(full=True).shape)\n",
    "c.dataframe().sample(5)"
   ]
  },
  {
   "cell_type": "code",
   "execution_count": 11,
   "metadata": {},
   "outputs": [
    {
     "name": "stdout",
     "output_type": "stream",
     "text": [
      "CLUSTER DATA FOR A CLUSTER\n"
     ]
    },
    {
     "data": {
      "text/plain": [
       "count                        31\n",
       "area                        266\n",
       "min_date               20170823\n",
       "max_date               20170823\n",
       "longitude              -2.96352\n",
       "latitude               -59.9162\n",
       "x                          1366\n",
       "y                          2081\n",
       "timestamp    20180208::00:05:41\n",
       "Name: 15, dtype: object"
      ]
     },
     "execution_count": 11,
     "metadata": {},
     "output_type": "execute_result"
    }
   ],
   "source": [
    "print(\"CLUSTER DATA FOR A CLUSTER\")\n",
    "c.cluster(15)"
   ]
  },
  {
   "cell_type": "code",
   "execution_count": 12,
   "metadata": {},
   "outputs": [
    {
     "name": "stdout",
     "output_type": "stream",
     "text": [
      "CLUSTER DATA FOR ALL CLUSTERS ON A TILE: (25, 9)\n"
     ]
    },
    {
     "data": {
      "text/html": [
       "<div>\n",
       "<style scoped>\n",
       "    .dataframe tbody tr th:only-of-type {\n",
       "        vertical-align: middle;\n",
       "    }\n",
       "\n",
       "    .dataframe tbody tr th {\n",
       "        vertical-align: top;\n",
       "    }\n",
       "\n",
       "    .dataframe thead th {\n",
       "        text-align: right;\n",
       "    }\n",
       "</style>\n",
       "<table border=\"1\" class=\"dataframe\">\n",
       "  <thead>\n",
       "    <tr style=\"text-align: right;\">\n",
       "      <th></th>\n",
       "      <th>count</th>\n",
       "      <th>area</th>\n",
       "      <th>min_date</th>\n",
       "      <th>max_date</th>\n",
       "      <th>longitude</th>\n",
       "      <th>latitude</th>\n",
       "      <th>x</th>\n",
       "      <th>y</th>\n",
       "      <th>timestamp</th>\n",
       "    </tr>\n",
       "  </thead>\n",
       "  <tbody>\n",
       "    <tr>\n",
       "      <th>1</th>\n",
       "      <td>41</td>\n",
       "      <td>91</td>\n",
       "      <td>20170823</td>\n",
       "      <td>20170823</td>\n",
       "      <td>-2.941836</td>\n",
       "      <td>-59.902459</td>\n",
       "      <td>1366</td>\n",
       "      <td>2081</td>\n",
       "      <td>20180208::00:05:41</td>\n",
       "    </tr>\n",
       "    <tr>\n",
       "      <th>2</th>\n",
       "      <td>94</td>\n",
       "      <td>780</td>\n",
       "      <td>20150719</td>\n",
       "      <td>20171213</td>\n",
       "      <td>-2.979355</td>\n",
       "      <td>-59.868681</td>\n",
       "      <td>1366</td>\n",
       "      <td>2081</td>\n",
       "      <td>20180208::00:05:41</td>\n",
       "    </tr>\n",
       "    <tr>\n",
       "      <th>3</th>\n",
       "      <td>27</td>\n",
       "      <td>154</td>\n",
       "      <td>20150328</td>\n",
       "      <td>20170901</td>\n",
       "      <td>-2.971438</td>\n",
       "      <td>-59.872472</td>\n",
       "      <td>1366</td>\n",
       "      <td>2081</td>\n",
       "      <td>20180208::00:05:41</td>\n",
       "    </tr>\n",
       "    <tr>\n",
       "      <th>4</th>\n",
       "      <td>40</td>\n",
       "      <td>213</td>\n",
       "      <td>20170823</td>\n",
       "      <td>20170823</td>\n",
       "      <td>-2.917397</td>\n",
       "      <td>-59.878676</td>\n",
       "      <td>1366</td>\n",
       "      <td>2081</td>\n",
       "      <td>20180208::00:05:41</td>\n",
       "    </tr>\n",
       "    <tr>\n",
       "      <th>5</th>\n",
       "      <td>33</td>\n",
       "      <td>107</td>\n",
       "      <td>20170823</td>\n",
       "      <td>20170823</td>\n",
       "      <td>-2.909824</td>\n",
       "      <td>-59.879021</td>\n",
       "      <td>1366</td>\n",
       "      <td>2081</td>\n",
       "      <td>20180208::00:05:41</td>\n",
       "    </tr>\n",
       "  </tbody>\n",
       "</table>\n",
       "</div>"
      ],
      "text/plain": [
       "   count  area  min_date  max_date  longitude   latitude     x     y  \\\n",
       "1     41    91  20170823  20170823  -2.941836 -59.902459  1366  2081   \n",
       "2     94   780  20150719  20171213  -2.979355 -59.868681  1366  2081   \n",
       "3     27   154  20150328  20170901  -2.971438 -59.872472  1366  2081   \n",
       "4     40   213  20170823  20170823  -2.917397 -59.878676  1366  2081   \n",
       "5     33   107  20170823  20170823  -2.909824 -59.879021  1366  2081   \n",
       "\n",
       "            timestamp  \n",
       "1  20180208::00:05:41  \n",
       "2  20180208::00:05:41  \n",
       "3  20180208::00:05:41  \n",
       "4  20180208::00:05:41  \n",
       "5  20180208::00:05:41  "
      ]
     },
     "execution_count": 12,
     "metadata": {},
     "output_type": "execute_result"
    }
   ],
   "source": [
    "print(\"CLUSTER DATA FOR ALL CLUSTERS ON A TILE:\",c.tile(15).shape)\n",
    "c.tile(15).head()"
   ]
  },
  {
   "cell_type": "markdown",
   "metadata": {
    "collapsed": true
   },
   "source": [
    "---\n",
    "# Viewer"
   ]
  },
  {
   "cell_type": "code",
   "execution_count": 13,
   "metadata": {},
   "outputs": [],
   "source": [
    "reload(us)\n",
    "reload(uv)\n",
    "from utils.service import ClusterService\n",
    "from utils.viewer import ClusterViewer"
   ]
  },
  {
   "cell_type": "code",
   "execution_count": 14,
   "metadata": {},
   "outputs": [
    {
     "name": "stdout",
     "output_type": "stream",
     "text": [
      "RELOADING FROM FILE (clusters_2015-01-01:2025-01-01_1363:2081:1367:2085_12:5:25:25)\n",
      "CPU times: user 117 ms, sys: 14.8 ms, total: 131 ms\n",
      "Wall time: 2.27 s\n"
     ]
    }
   ],
   "source": [
    "print(\"RELOADING FROM FILE ({})\".format(filename))\n",
    "%time c=ClusterService.read(filename)"
   ]
  },
  {
   "cell_type": "code",
   "execution_count": 15,
   "metadata": {},
   "outputs": [
    {
     "data": {
      "text/html": [
       "<div>\n",
       "<style scoped>\n",
       "    .dataframe tbody tr th:only-of-type {\n",
       "        vertical-align: middle;\n",
       "    }\n",
       "\n",
       "    .dataframe tbody tr th {\n",
       "        vertical-align: top;\n",
       "    }\n",
       "\n",
       "    .dataframe thead th {\n",
       "        text-align: right;\n",
       "    }\n",
       "</style>\n",
       "<table border=\"1\" class=\"dataframe\">\n",
       "  <thead>\n",
       "    <tr style=\"text-align: right;\">\n",
       "      <th></th>\n",
       "      <th>count</th>\n",
       "      <th>area</th>\n",
       "      <th>min_date</th>\n",
       "      <th>max_date</th>\n",
       "      <th>longitude</th>\n",
       "      <th>latitude</th>\n",
       "      <th>x</th>\n",
       "      <th>y</th>\n",
       "      <th>timestamp</th>\n",
       "    </tr>\n",
       "  </thead>\n",
       "  <tbody>\n",
       "    <tr>\n",
       "      <th>327</th>\n",
       "      <td>91</td>\n",
       "      <td>375</td>\n",
       "      <td>20160712</td>\n",
       "      <td>20170823</td>\n",
       "      <td>-2.983485</td>\n",
       "      <td>-60.107537</td>\n",
       "      <td>1364</td>\n",
       "      <td>2081</td>\n",
       "      <td>20180208::00:05:41</td>\n",
       "    </tr>\n",
       "    <tr>\n",
       "      <th>44</th>\n",
       "      <td>35</td>\n",
       "      <td>100</td>\n",
       "      <td>20150912</td>\n",
       "      <td>20170823</td>\n",
       "      <td>-3.021003</td>\n",
       "      <td>-59.928998</td>\n",
       "      <td>1366</td>\n",
       "      <td>2082</td>\n",
       "      <td>20180208::00:05:41</td>\n",
       "    </tr>\n",
       "    <tr>\n",
       "      <th>66</th>\n",
       "      <td>53</td>\n",
       "      <td>182</td>\n",
       "      <td>20170823</td>\n",
       "      <td>20170823</td>\n",
       "      <td>-2.971782</td>\n",
       "      <td>-59.981733</td>\n",
       "      <td>1365</td>\n",
       "      <td>2081</td>\n",
       "      <td>20180208::00:05:41</td>\n",
       "    </tr>\n",
       "    <tr>\n",
       "      <th>305</th>\n",
       "      <td>110</td>\n",
       "      <td>376</td>\n",
       "      <td>20150710</td>\n",
       "      <td>20170823</td>\n",
       "      <td>-3.140774</td>\n",
       "      <td>-60.119600</td>\n",
       "      <td>1363</td>\n",
       "      <td>2083</td>\n",
       "      <td>20180208::00:05:41</td>\n",
       "    </tr>\n",
       "    <tr>\n",
       "      <th>325</th>\n",
       "      <td>35</td>\n",
       "      <td>83</td>\n",
       "      <td>20171010</td>\n",
       "      <td>20180122</td>\n",
       "      <td>-3.251585</td>\n",
       "      <td>-60.127872</td>\n",
       "      <td>1363</td>\n",
       "      <td>2085</td>\n",
       "      <td>20180208::00:05:41</td>\n",
       "    </tr>\n",
       "  </tbody>\n",
       "</table>\n",
       "</div>"
      ],
      "text/plain": [
       "     count  area  min_date  max_date  longitude   latitude     x     y  \\\n",
       "327     91   375  20160712  20170823  -2.983485 -60.107537  1364  2081   \n",
       "44      35   100  20150912  20170823  -3.021003 -59.928998  1366  2082   \n",
       "66      53   182  20170823  20170823  -2.971782 -59.981733  1365  2081   \n",
       "305    110   376  20150710  20170823  -3.140774 -60.119600  1363  2083   \n",
       "325     35    83  20171010  20180122  -3.251585 -60.127872  1363  2085   \n",
       "\n",
       "              timestamp  \n",
       "327  20180208::00:05:41  \n",
       "44   20180208::00:05:41  \n",
       "66   20180208::00:05:41  \n",
       "305  20180208::00:05:41  \n",
       "325  20180208::00:05:41  "
      ]
     },
     "execution_count": 15,
     "metadata": {},
     "output_type": "execute_result"
    }
   ],
   "source": [
    "c.dataframe().sample(5)"
   ]
  },
  {
   "cell_type": "code",
   "execution_count": 16,
   "metadata": {
    "collapsed": true
   },
   "outputs": [],
   "source": [
    "view=ClusterViewer(c)"
   ]
  },
  {
   "cell_type": "code",
   "execution_count": 17,
   "metadata": {},
   "outputs": [
    {
     "name": "stdout",
     "output_type": "stream",
     "text": [
      "VIEW TILE:\n"
     ]
    },
    {
     "name": "stderr",
     "output_type": "stream",
     "text": [
      "/Users/brook/anaconda/lib/python2.7/site-packages/skimage/io/_plugins/matplotlib_plugin.py:51: FutureWarning: Conversion of the second argument of issubdtype from `float` to `np.floating` is deprecated. In future, it will be treated as `np.float64 == np.dtype(float).type`.\n",
      "  out_of_range_float = (np.issubdtype(image.dtype, np.float) and\n"
     ]
    },
    {
     "data": {
      "image/png": "[encoded data removed]",
      "text/plain": [
       "<matplotlib.figure.Figure at 0x10f98e610>"
      ]
     },
     "metadata": {},
     "output_type": "display_data"
    }
   ],
   "source": [
    "print(\"VIEW TILE:\")\n",
    "view.tile(36)"
   ]
  },
  {
   "cell_type": "code",
   "execution_count": 18,
   "metadata": {},
   "outputs": [
    {
     "name": "stdout",
     "output_type": "stream",
     "text": [
      "VIEW INPUT:\n",
      "NB CLUSTERS: 32\n",
      "TOTAL COUNT: 2512\n",
      "TOTAL AREA: 12247\n",
      "DATES: 2015-02-09 to 2018-01-22\n"
     ]
    },
    {
     "data": {
      "image/png": "[encoded data removed]",
      "text/plain": [
       "<matplotlib.figure.Figure at 0x10dede150>"
      ]
     },
     "metadata": {},
     "output_type": "display_data"
    }
   ],
   "source": [
    "print(\"VIEW INPUT:\")\n",
    "view.input(36)"
   ]
  },
  {
   "cell_type": "code",
   "execution_count": 19,
   "metadata": {},
   "outputs": [
    {
     "name": "stdout",
     "output_type": "stream",
     "text": [
      "VIEW INPUT (without centroids):\n",
      "NB CLUSTERS: 32\n",
      "TOTAL COUNT: 2512\n",
      "TOTAL AREA: 12247\n",
      "DATES: 2015-02-09 to 2018-01-22\n"
     ]
    },
    {
     "name": "stderr",
     "output_type": "stream",
     "text": [
      "/Users/brook/anaconda/lib/python2.7/site-packages/skimage/io/_plugins/matplotlib_plugin.py:77: UserWarning: Float image out of standard range; displaying image with stretched contrast.\n",
      "  warn(\"Float image out of standard range; displaying \"\n"
     ]
    },
    {
     "data": {
      "image/png": "[encoded data removed]",
      "text/plain": [
       "<matplotlib.figure.Figure at 0x11013ded0>"
      ]
     },
     "metadata": {},
     "output_type": "display_data"
    }
   ],
   "source": [
    "print(\"VIEW INPUT (without centroids):\")\n",
    "view.input(36,centroids=False)"
   ]
  },
  {
   "cell_type": "code",
   "execution_count": 20,
   "metadata": {},
   "outputs": [
    {
     "name": "stdout",
     "output_type": "stream",
     "text": [
      "VIEW SINGLE CLUSTER:\n",
      "COUNT: 52\n",
      "AREA: 448\n",
      "POINT: 132,70\n",
      "ZXY: 12/1367/2085\n",
      "DATES: 2015-09-20 to 2018-01-06\n"
     ]
    },
    {
     "data": {
      "image/png": "[encoded data removed]",
      "text/plain": [
       "<matplotlib.figure.Figure at 0x110168290>"
      ]
     },
     "metadata": {},
     "output_type": "display_data"
    }
   ],
   "source": [
    "print(\"VIEW SINGLE CLUSTER:\")\n",
    "view.cluster(158)"
   ]
  },
  {
   "cell_type": "code",
   "execution_count": 21,
   "metadata": {},
   "outputs": [
    {
     "name": "stdout",
     "output_type": "stream",
     "text": [
      "VIEW SINGLE CLUSTER (without centriods):\n",
      "COUNT: 94\n",
      "AREA: 363\n",
      "POINT: 192,74\n",
      "ZXY: 12/1366/2082\n",
      "DATES: 2016-07-28 to 2018-01-22\n"
     ]
    },
    {
     "name": "stderr",
     "output_type": "stream",
     "text": [
      "/Users/brook/anaconda/lib/python2.7/site-packages/skimage/io/_plugins/matplotlib_plugin.py:74: UserWarning: Low image data range; displaying image with stretched contrast.\n",
      "  warn(\"Low image data range; displaying image with \"\n"
     ]
    },
    {
     "data": {
      "image/png": "[encoded data removed]",
      "text/plain": [
       "<matplotlib.figure.Figure at 0x10ff7c2d0>"
      ]
     },
     "metadata": {},
     "output_type": "display_data"
    }
   ],
   "source": [
    "print(\"VIEW SINGLE CLUSTER (without centriods):\")\n",
    "view.cluster(123,centroids=False)"
   ]
  },
  {
   "cell_type": "code",
   "execution_count": 22,
   "metadata": {},
   "outputs": [
    {
     "name": "stdout",
     "output_type": "stream",
     "text": [
      "VIEW CLUSTERS BY LIST\n"
     ]
    },
    {
     "data": {
      "image/png": "[encoded data removed]",
      "text/plain": [
       "<matplotlib.figure.Figure at 0x10dea12d0>"
      ]
     },
     "metadata": {},
     "output_type": "display_data"
    }
   ],
   "source": [
    "print(\"VIEW CLUSTERS BY LIST\")\n",
    "view.clusters(row_ids=[158,123,36])"
   ]
  },
  {
   "cell_type": "code",
   "execution_count": 23,
   "metadata": {},
   "outputs": [
    {
     "name": "stdout",
     "output_type": "stream",
     "text": [
      "VIEW CLUSTERS BY START,END-INDICIES (without centroids):\n"
     ]
    },
    {
     "data": {
      "image/png": "[encoded data removed]",
      "text/plain": [
       "<matplotlib.figure.Figure at 0x10f8d1d90>"
      ]
     },
     "metadata": {},
     "output_type": "display_data"
    }
   ],
   "source": [
    "print(\"VIEW CLUSTERS BY START,END-INDICIES (without centroids):\")\n",
    "view.clusters(start=123,end=127,centroids=False)"
   ]
  },
  {
   "cell_type": "markdown",
   "metadata": {},
   "source": [
    "---\n",
    "## DOCS"
   ]
  },
  {
   "cell_type": "markdown",
   "metadata": {},
   "source": [
    "---\n",
    "#### ClusterService"
   ]
  },
  {
   "cell_type": "code",
   "execution_count": 24,
   "metadata": {
    "scrolled": false
   },
   "outputs": [
    {
     "name": "stdout",
     "output_type": "stream",
     "text": [
      "Help on class ClusterService in module utils.service:\n",
      "\n",
      "class ClusterService(__builtin__.object)\n",
      " |  ClusterService:\n",
      " |  \n",
      " |  Creates service for running cluster algorithm and/or viewing \n",
      " |  the resulting cluster data.\n",
      " |  \n",
      " |  Args:\n",
      " |      Use one of the following to select tiles to run:\n",
      " |  \n",
      " |          bounds<list>: tiles-lonlat bounding box\n",
      " |          tile_bounds<list>: tiles-xy bounding box\n",
      " |          lat,lon<int,int>: latitude,longitude used to run a single tile\n",
      " |          x,y<int,int>: tile-xy used to run a single tile\n",
      " |  \n",
      " |      Other run arguments:\n",
      " |  \n",
      " |          start_date<str>: 'yyyy-mm-dd'\n",
      " |          end_date<str>: 'yyyy-mm-dd'\n",
      " |          min_count<int>: minimum number of alerts in a cluster\n",
      " |          width<int>: gaussian width in cluster algorithm\n",
      " |          iterations<int>: number of times to iterate when finding clusters\n",
      " |          z<int>: tile-zoom\n",
      " |          bucket<str>: aws-bucket used for saving csv file\n",
      " |  \n",
      " |      Preloaded dataframe args:\n",
      " |  \n",
      " |          NOTE: Consider using ClusterService.read() rather than loading the\n",
      " |          dataframes directly.\n",
      " |  \n",
      " |          dataframe<pandas.dataframe>,\n",
      " |          errors_dataframe<pandas.dataframe>\n",
      " |  \n",
      " |  Methods defined here:\n",
      " |  \n",
      " |  __init__(self, bounds=None, tile_bounds=None, lat=None, lon=None, x=None, y=None, start_date='2015-01-01', end_date='2025-01-01', min_count=25, width=5, iterations=25, z=12, bucket='gfw-clusters-test', dataframe=None, errors_dataframe=None)\n",
      " |      #  PUBLC METHODS\n",
      " |  \n",
      " |  bounding_box(self)\n",
      " |      get lat/lon bounding box\n",
      " |  \n",
      " |  bounds(self)\n",
      " |      get lat/lon-bounds\n",
      " |  \n",
      " |  cluster(self, row_id=None, lat=None, lon=None, z=None, x=None, y=None, i=None, j=None, timestamp=None, ascending=False, full=False)\n",
      " |      fetch data for single cluster\n",
      " |      \n",
      " |      Method for selecting row of dataframe\n",
      " |      \n",
      " |      Args:\n",
      " |      \n",
      " |          Use one of the following to select the row:\n",
      " |      \n",
      " |              row_id<int>: dataframe index for cluster\n",
      " |              lat,lon<floats>: latitude,longitude for cluster\n",
      " |              z,x,y,i,j<ints>: tile/pixel location for cluster\n",
      " |      \n",
      " |              (optional - really consider using row_id):\n",
      " |                  timestamp<str>: timestamp for cluster\n",
      " |      \n",
      " |          Other arguments:\n",
      " |      \n",
      " |              ascending<bool>: \n",
      " |                  if true sort by ascending time and grab first matching row\n",
      " |              full:\n",
      " |                  if false return only VIEW_COLUMNS. \n",
      " |                  else include all columns (including input/alerts data)\n",
      " |  \n",
      " |  dataframe(self, full=False)\n",
      " |      return dataframe of clusters data\n",
      " |      \n",
      " |      Args:\n",
      " |          full<bool[False]>:\n",
      " |              if true return full dataframe\n",
      " |              otherwise only return VIEW_COLUMNS\n",
      " |  \n",
      " |  errors(self)\n",
      " |      return error dataframe\n",
      " |  \n",
      " |  name(self, ident='clusters')\n",
      " |      construct service name. use as default filename\n",
      " |  \n",
      " |  request_size(self)\n",
      " |      get number of tiles in request\n",
      " |  \n",
      " |  run(self, max_processes=200, force=False)\n",
      " |      find clusters on tiles\n",
      " |      \n",
      " |      Args:\n",
      " |          max_processes<int>: number of processes used in launching jobs\n",
      " |          force<bool[False]>: if true run even if dataframe is loaded\n",
      " |  \n",
      " |  save(self, ident='clusters', filename=None, local=False, bucket=None, errors=True)\n",
      " |      write responses to csv\n",
      " |      \n",
      " |      Args:\n",
      " |      \n",
      " |          Use one of the following:\n",
      " |      \n",
      " |              filename<str>: name/path of csv without '.csv' extension \n",
      " |              ident<str[DEFAULT_CSV_IDENT]>: prefix to default_name \n",
      " |          \n",
      " |          Other arguments:\n",
      " |          \n",
      " |              local<bool[False]>: if true write to local file else write to s3 file\n",
      " |              bucket<str>: aws-bucket required if not local and not self.bucket\n",
      " |              errors<bool[True]>: if true save errors-csv\n",
      " |  \n",
      " |  tile(self, row_id=None, z=None, x=None, y=None, full=False)\n",
      " |      return rows matching z,x,y\n",
      " |      \n",
      " |      Args:\n",
      " |          row_id<int>: row_id to get z/x/y from\n",
      " |          z,x,y<int,int,int>: if not row_id specify z/x/y\n",
      " |          full<bool[False]>:\n",
      " |              if true return full dataframe\n",
      " |              otherwise only return VIEW_COLUMNS\n",
      " |  \n",
      " |  ----------------------------------------------------------------------\n",
      " |  Static methods defined here:\n",
      " |  \n",
      " |  int_to_str_dates(sdate, edate)\n",
      " |      convert date ints to date strs\n",
      " |  \n",
      " |  read(filename, local=False, region='us-west-2', bucket='gfw-clusters-test', url_base=None, errors=True)\n",
      " |      init from csv\n",
      " |      \n",
      " |      Args:\n",
      " |          filename<str>: name/path of csv without '.csv' extension \n",
      " |          local<bool[False]>: if true read from local file else read from s3 file\n",
      " |          region<str>: aws-region required if not local and not url_base\n",
      " |          bucket<str>: aws-bucket required if not local\n",
      " |          url_base<str>: aws-url-root for bucket\n",
      " |          errors<bool[True]>: if true include errors-csv\n",
      " |  \n",
      " |  run_params(dataframe)\n",
      " |      return run params based on dataframe\n",
      " |  \n",
      " |  ----------------------------------------------------------------------\n",
      " |  Data descriptors defined here:\n",
      " |  \n",
      " |  __dict__\n",
      " |      dictionary for instance variables (if defined)\n",
      " |  \n",
      " |  __weakref__\n",
      " |      list of weak references to the object (if defined)\n",
      "\n"
     ]
    }
   ],
   "source": [
    "help(ClusterService)"
   ]
  },
  {
   "cell_type": "markdown",
   "metadata": {},
   "source": [
    "---\n",
    "#### ClusterViewer"
   ]
  },
  {
   "cell_type": "code",
   "execution_count": 25,
   "metadata": {},
   "outputs": [
    {
     "name": "stdout",
     "output_type": "stream",
     "text": [
      "Help on class ClusterViewer in module utils.viewer:\n",
      "\n",
      "class ClusterViewer(__builtin__.object)\n",
      " |  ClusterViewer:\n",
      " |          \n",
      " |  Easily plot data from ClusterService.\n",
      " |  \n",
      " |  Args:\n",
      " |      service<cluster_service>: ClusterService instance\n",
      " |      url_base<str>: aws-bucket url for glad-tiles (defaults to environ['url'])\n",
      " |  \n",
      " |  Methods defined here:\n",
      " |  \n",
      " |  __init__(self, service, url_base=None)\n",
      " |      # PUBLIC METHODS\n",
      " |  \n",
      " |  cluster(self, row_id, centroids=True, info=True)\n",
      " |      show the cluster\n",
      " |      \n",
      " |      Args:\n",
      " |          row_id<int>: row id for a cluster on the tile of interest\n",
      " |          centroids<bool[True]>: if true plot the cluster centroids\n",
      " |          info<bool[True]>: if true print the cluster data\n",
      " |  \n",
      " |  clusters(self, start=None, end=None, row_ids=[], centroids=True)\n",
      " |      show clusters\n",
      " |      \n",
      " |      Use one of the following:\n",
      " |          start,end<int,int>: the [start,end) range of rows to show\n",
      " |          row_ids<list>: list of row ids to show\n",
      " |      \n",
      " |      Other arguments:\n",
      " |          centroids<bool[True]>: if true plot the cluster centroids\n",
      " |  \n",
      " |  input(self, row_id, centroids=True, info=True)\n",
      " |      show the GLAD tile after filtering by date.\n",
      " |      \n",
      " |      Args:\n",
      " |          row_id<int>: row id for a cluster on the tile of interest\n",
      " |          centroids<bool[True]>: if true plot the cluster centroids\n",
      " |          info<bool[True]>: if true print the clusters data\n",
      " |  \n",
      " |  tile(self, row_id=None, error=False, x=None, y=None, z=None, show=True, array=False)\n",
      " |      load tile directly from aws-bucket\n",
      " |      \n",
      " |      Note: This is the full GLAD tile and has not been filtered by dates.\n",
      " |      \n",
      " |      Args:\n",
      " |      \n",
      " |          Use one of the following to identify the tile:\n",
      " |      \n",
      " |              row_id<int>: row id for a cluster on the tile of interest\n",
      " |              z,x,y<int,int,int>: the z/x/y of the tile\n",
      " |      \n",
      " |          Other arguments:\n",
      " |      \n",
      " |              show<bool[True]>: if true plot the image\n",
      " |              array<bool[False]>: if true return the array\n",
      " |  \n",
      " |  ----------------------------------------------------------------------\n",
      " |  Static methods defined here:\n",
      " |  \n",
      " |  show(im, i=None, j=None, ax=None)\n",
      " |  \n",
      " |  ----------------------------------------------------------------------\n",
      " |  Data descriptors defined here:\n",
      " |  \n",
      " |  __dict__\n",
      " |      dictionary for instance variables (if defined)\n",
      " |  \n",
      " |  __weakref__\n",
      " |      list of weak references to the object (if defined)\n",
      "\n"
     ]
    }
   ],
   "source": [
    "help(ClusterViewer)"
   ]
  },
  {
   "cell_type": "code",
   "execution_count": null,
   "metadata": {
    "collapsed": true
   },
   "outputs": [],
   "source": []
  }
 ],
 "metadata": {
  "kernelspec": {
   "display_name": "Python 2",
   "language": "python",
   "name": "python2"
  },
  "language_info": {
   "codemirror_mode": {
    "name": "ipython",
    "version": 2
   },
   "file_extension": ".py",
   "mimetype": "text/x-python",
   "name": "python",
   "nbconvert_exporter": "python",
   "pygments_lexer": "ipython2",
   "version": "2.7.13"
  }
 },
 "nbformat": 4,
 "nbformat_minor": 2
}
